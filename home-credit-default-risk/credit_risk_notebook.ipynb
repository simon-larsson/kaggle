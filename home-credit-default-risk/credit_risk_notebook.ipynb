{
 "cells": [
  {
   "cell_type": "code",
   "execution_count": 1,
   "metadata": {
    "collapsed": true
   },
   "outputs": [],
   "source": [
    "import numpy as np\n",
    "import pandas as pd\n",
    "import matplotlib.pyplot as plt\n",
    "import sklearn as sk\n",
    "from sklearn import svm\n",
    "from sklearn import preprocessing\n",
    "from sklearn.model_selection import cross_val_score\n",
    "from sklearn.metrics import roc_auc_score, precision_recall_curve, roc_curve, average_precision_score\n",
    "from sklearn.model_selection import KFold\n",
    "from lightgbm import LGBMClassifier\n",
    "from collections import Counter\n",
    "import sklearn.ensemble as ske\n",
    "import seaborn as sns\n",
    "from imblearn.over_sampling import SMOTE\n",
    "import gc\n",
    "%matplotlib inline"
   ]
  },
  {
   "cell_type": "code",
   "execution_count": 2,
   "metadata": {
    "collapsed": true
   },
   "outputs": [],
   "source": [
    "sns.set_style(\"whitegrid\")\n",
    "gc.enable()"
   ]
  },
  {
   "cell_type": "code",
   "execution_count": 3,
   "metadata": {
    "collapsed": true
   },
   "outputs": [],
   "source": [
    "# Removes a warning in sklearn that will be fixed during an update mid 2018\n",
    "import warnings\n",
    "\n",
    "if __name__ == '__main__':\n",
    "    warnings.filterwarnings(action='ignore', category=DeprecationWarning)\n",
    "    le = preprocessing.LabelEncoder()\n",
    "    le.fit([1, 2, 2, 6])\n",
    "    le.transform([1, 1, 2, 6])\n",
    "    le.inverse_transform([0, 0, 1, 2])"
   ]
  },
  {
   "cell_type": "code",
   "execution_count": 48,
   "metadata": {
    "collapsed": false
   },
   "outputs": [
    {
     "name": "stdout",
     "output_type": "stream",
     "text": [
      "Buro bal shape :  (27299925, 3)\n",
      "transform to dummies\n",
      "Counting buros\n",
      "averaging buro bal\n",
      "Read Bureau\n",
      "Go to dummies\n",
      "Merge with buro avg\n",
      "Counting buro per SK_ID_CURR\n",
      "Averaging bureau\n",
      "Read prev\n",
      "Go to dummies\n",
      "Counting number of Prevs\n",
      "Averaging prev\n",
      "            SK_ID_PREV  AMT_ANNUITY  AMT_APPLICATION  AMT_CREDIT  \\\n",
      "SK_ID_CURR                                                         \n",
      "100001             1.0     3951.000         24835.50    23787.00   \n",
      "100002             1.0     9251.775        179055.00   179055.00   \n",
      "100003             3.0    56553.990        435436.50   484191.00   \n",
      "100004             1.0     5357.250         24282.00    20106.00   \n",
      "100005             2.0     4813.200         22308.75    20076.75   \n",
      "\n",
      "            AMT_DOWN_PAYMENT  AMT_GOODS_PRICE  HOUR_APPR_PROCESS_START  \\\n",
      "SK_ID_CURR                                                               \n",
      "100001                2520.0          24835.5                13.000000   \n",
      "100002                   0.0         179055.0                 9.000000   \n",
      "100003                3442.5         435436.5                14.666667   \n",
      "100004                4860.0          24282.0                 5.000000   \n",
      "100005                4464.0          44617.5                10.500000   \n",
      "\n",
      "            NFLAG_LAST_APPL_IN_DAY  RATE_DOWN_PAYMENT  RATE_INTEREST_PRIMARY  \\\n",
      "SK_ID_CURR                                                                     \n",
      "100001                         1.0           0.104326                    NaN   \n",
      "100002                         1.0           0.000000                    NaN   \n",
      "100003                         1.0           0.050030                    NaN   \n",
      "100004                         1.0           0.212008                    NaN   \n",
      "100005                         1.0           0.108964                    NaN   \n",
      "\n",
      "                                 ...                         \\\n",
      "SK_ID_CURR                       ...                          \n",
      "100001                           ...                          \n",
      "100002                           ...                          \n",
      "100003                           ...                          \n",
      "100004                           ...                          \n",
      "100005                           ...                          \n",
      "\n",
      "            PRODUCT_COMBINATION_Cash X-Sell: low  \\\n",
      "SK_ID_CURR                                         \n",
      "100001                                  0.000000   \n",
      "100002                                  0.000000   \n",
      "100003                                  0.333333   \n",
      "100004                                  0.000000   \n",
      "100005                                  0.000000   \n",
      "\n",
      "            PRODUCT_COMBINATION_Cash X-Sell: middle  \\\n",
      "SK_ID_CURR                                            \n",
      "100001                                          0.0   \n",
      "100002                                          0.0   \n",
      "100003                                          0.0   \n",
      "100004                                          0.0   \n",
      "100005                                          0.0   \n",
      "\n",
      "            PRODUCT_COMBINATION_POS household with interest  \\\n",
      "SK_ID_CURR                                                    \n",
      "100001                                             0.000000   \n",
      "100002                                             0.000000   \n",
      "100003                                             0.333333   \n",
      "100004                                             0.000000   \n",
      "100005                                             0.000000   \n",
      "\n",
      "            PRODUCT_COMBINATION_POS household without interest  \\\n",
      "SK_ID_CURR                                                       \n",
      "100001                                                    0.0    \n",
      "100002                                                    0.0    \n",
      "100003                                                    0.0    \n",
      "100004                                                    0.0    \n",
      "100005                                                    0.0    \n",
      "\n",
      "            PRODUCT_COMBINATION_POS industry with interest  \\\n",
      "SK_ID_CURR                                                   \n",
      "100001                                            0.000000   \n",
      "100002                                            0.000000   \n",
      "100003                                            0.333333   \n",
      "100004                                            0.000000   \n",
      "100005                                            0.000000   \n",
      "\n",
      "            PRODUCT_COMBINATION_POS industry without interest  \\\n",
      "SK_ID_CURR                                                      \n",
      "100001                                                    0.0   \n",
      "100002                                                    0.0   \n",
      "100003                                                    0.0   \n",
      "100004                                                    0.0   \n",
      "100005                                                    0.0   \n",
      "\n",
      "            PRODUCT_COMBINATION_POS mobile with interest  \\\n",
      "SK_ID_CURR                                                 \n",
      "100001                                               1.0   \n",
      "100002                                               0.0   \n",
      "100003                                               0.0   \n",
      "100004                                               0.0   \n",
      "100005                                               0.5   \n",
      "\n",
      "            PRODUCT_COMBINATION_POS mobile without interest  \\\n",
      "SK_ID_CURR                                                    \n",
      "100001                                                  0.0   \n",
      "100002                                                  0.0   \n",
      "100003                                                  0.0   \n",
      "100004                                                  1.0   \n",
      "100005                                                  0.0   \n",
      "\n",
      "            PRODUCT_COMBINATION_POS other with interest  \\\n",
      "SK_ID_CURR                                                \n",
      "100001                                              0.0   \n",
      "100002                                              1.0   \n",
      "100003                                              0.0   \n",
      "100004                                              0.0   \n",
      "100005                                              0.0   \n",
      "\n",
      "            PRODUCT_COMBINATION_POS others without interest  \n",
      "SK_ID_CURR                                                   \n",
      "100001                                                  0.0  \n",
      "100002                                                  0.0  \n",
      "100003                                                  0.0  \n",
      "100004                                                  0.0  \n",
      "100005                                                  0.0  \n",
      "\n",
      "[5 rows x 163 columns]\n",
      "Reading POS_CASH\n",
      "Go to dummies\n",
      "Compute nb of prevs per curr\n",
      "Go to averages\n",
      "Reading CC balance\n",
      "Go to dummies\n",
      "Compute average\n",
      "Reading Installments\n",
      "Read data and test\n",
      "Shapes :  (307511, 122) (48744, 121)\n"
     ]
    },
    {
     "data": {
      "text/plain": [
       "142"
      ]
     },
     "execution_count": 48,
     "metadata": {},
     "output_type": "execute_result"
    }
   ],
   "source": [
    "buro_bal = pd.read_csv('./data/bureau_balance.csv')\n",
    "print('Buro bal shape : ', buro_bal.shape)\n",
    "\n",
    "print('transform to dummies')\n",
    "buro_bal = pd.concat([buro_bal, pd.get_dummies(buro_bal.STATUS, prefix='buro_bal_status')], axis=1).drop('STATUS', axis=1)\n",
    "\n",
    "print('Counting buros')\n",
    "buro_counts = buro_bal[['SK_ID_BUREAU', 'MONTHS_BALANCE']].groupby('SK_ID_BUREAU').count()\n",
    "buro_bal['buro_count'] = buro_bal['SK_ID_BUREAU'].map(buro_counts['MONTHS_BALANCE'])\n",
    "\n",
    "print('averaging buro bal')\n",
    "avg_buro_bal = buro_bal.groupby('SK_ID_BUREAU').mean()\n",
    "\n",
    "avg_buro_bal.columns = ['avg_buro_' + f_ for f_ in avg_buro_bal.columns]\n",
    "del buro_bal\n",
    "gc.collect()\n",
    "\n",
    "print('Read Bureau')\n",
    "buro = pd.read_csv('./data/bureau.csv')\n",
    "\n",
    "print('Go to dummies')\n",
    "buro_credit_active_dum = pd.get_dummies(buro.CREDIT_ACTIVE, prefix='ca_')\n",
    "buro_credit_currency_dum = pd.get_dummies(buro.CREDIT_CURRENCY, prefix='cu_')\n",
    "buro_credit_type_dum = pd.get_dummies(buro.CREDIT_TYPE, prefix='ty_')\n",
    "\n",
    "buro_full = pd.concat([buro, buro_credit_active_dum, buro_credit_currency_dum, buro_credit_type_dum], axis=1)\n",
    "# buro_full.columns = ['buro_' + f_ for f_ in buro_full.columns]\n",
    "\n",
    "del buro_credit_active_dum, buro_credit_currency_dum, buro_credit_type_dum\n",
    "gc.collect()\n",
    "\n",
    "print('Merge with buro avg')\n",
    "buro_full = buro_full.merge(right=avg_buro_bal.reset_index(), how='left', on='SK_ID_BUREAU', suffixes=('', '_bur_bal'))\n",
    "\n",
    "print('Counting buro per SK_ID_CURR')\n",
    "nb_bureau_per_curr = buro_full[['SK_ID_CURR', 'SK_ID_BUREAU']].groupby('SK_ID_CURR').count()\n",
    "buro_full['SK_ID_BUREAU'] = buro_full['SK_ID_CURR'].map(nb_bureau_per_curr['SK_ID_BUREAU'])\n",
    "\n",
    "print('Averaging bureau')\n",
    "avg_buro = buro_full.groupby('SK_ID_CURR').mean()\n",
    "\n",
    "del buro, buro_full\n",
    "gc.collect()\n",
    "\n",
    "print('Read prev')\n",
    "prev = pd.read_csv('./data/previous_application.csv')\n",
    "\n",
    "prev_cat_features = [\n",
    "    f_ for f_ in prev.columns if prev[f_].dtype == 'object'\n",
    "]\n",
    "\n",
    "print('Go to dummies')\n",
    "prev_dum = pd.DataFrame()\n",
    "for f_ in prev_cat_features:\n",
    "    prev_dum = pd.concat([prev_dum, pd.get_dummies(prev[f_], prefix=f_).astype(np.uint8)], axis=1)\n",
    "\n",
    "prev = pd.concat([prev, prev_dum], axis=1)\n",
    "\n",
    "del prev_dum\n",
    "gc.collect()\n",
    "\n",
    "print('Counting number of Prevs')\n",
    "nb_prev_per_curr = prev[['SK_ID_CURR', 'SK_ID_PREV']].groupby('SK_ID_CURR').count()\n",
    "prev['SK_ID_PREV'] = prev['SK_ID_CURR'].map(nb_prev_per_curr['SK_ID_PREV'])\n",
    "\n",
    "print('Averaging prev')\n",
    "avg_prev = prev.groupby('SK_ID_CURR').mean()\n",
    "del prev\n",
    "gc.collect()\n",
    "\n",
    "print('Reading POS_CASH')\n",
    "pos = pd.read_csv('./data/POS_CASH_balance.csv')\n",
    "\n",
    "print('Go to dummies')\n",
    "pos = pd.concat([pos, pd.get_dummies(pos['NAME_CONTRACT_STATUS'])], axis=1)\n",
    "\n",
    "print('Compute nb of prevs per curr')\n",
    "nb_prevs = pos[['SK_ID_CURR', 'SK_ID_PREV']].groupby('SK_ID_CURR').count()\n",
    "pos['SK_ID_PREV'] = pos['SK_ID_CURR'].map(nb_prevs['SK_ID_PREV'])\n",
    "\n",
    "print('Go to averages')\n",
    "avg_pos = pos.groupby('SK_ID_CURR').mean()\n",
    "\n",
    "del pos, nb_prevs\n",
    "gc.collect()\n",
    "\n",
    "print('Reading CC balance')\n",
    "cc_bal = pd.read_csv('./data/credit_card_balance.csv')\n",
    "\n",
    "print('Go to dummies')\n",
    "cc_bal = pd.concat([cc_bal, pd.get_dummies(cc_bal['NAME_CONTRACT_STATUS'], prefix='cc_bal_status_')], axis=1)\n",
    "\n",
    "nb_prevs = cc_bal[['SK_ID_CURR', 'SK_ID_PREV']].groupby('SK_ID_CURR').count()\n",
    "cc_bal['SK_ID_PREV'] = cc_bal['SK_ID_CURR'].map(nb_prevs['SK_ID_PREV'])\n",
    "\n",
    "print('Compute average')\n",
    "avg_cc_bal = cc_bal.groupby('SK_ID_CURR').mean()\n",
    "avg_cc_bal.columns = ['cc_bal_' + f_ for f_ in avg_cc_bal.columns]\n",
    "\n",
    "del cc_bal, nb_prevs\n",
    "gc.collect()\n",
    "\n",
    "print('Reading Installments')\n",
    "inst = pd.read_csv('./data/installments_payments.csv')\n",
    "nb_prevs = inst[['SK_ID_CURR', 'SK_ID_PREV']].groupby('SK_ID_CURR').count()\n",
    "inst['SK_ID_PREV'] = inst['SK_ID_CURR'].map(nb_prevs['SK_ID_PREV'])\n",
    "\n",
    "avg_inst = inst.groupby('SK_ID_CURR').mean()\n",
    "avg_inst.columns = ['inst_' + f_ for f_ in avg_inst.columns]\n",
    "\n",
    "print('Read data and test')\n",
    "data = pd.read_csv('./data/application_train.csv')\n",
    "test = pd.read_csv('./data/application_test.csv')\n",
    "print('Shapes : ', data.shape, test.shape)\n",
    "\n",
    "categorical_feats = [\n",
    "    f for f in data.columns if data[f].dtype == 'object'\n",
    "]\n",
    "categorical_feats\n",
    "for f_ in categorical_feats:\n",
    "    data[f_], indexer = pd.factorize(data[f_])\n",
    "    test[f_] = indexer.get_indexer(test[f_])\n",
    "    \n",
    "data = data.merge(right=avg_buro.reset_index(), how='left', on='SK_ID_CURR')\n",
    "test = test.merge(right=avg_buro.reset_index(), how='left', on='SK_ID_CURR')\n",
    "\n",
    "data = data.merge(right=avg_prev.reset_index(), how='left', on='SK_ID_CURR')\n",
    "test = test.merge(right=avg_prev.reset_index(), how='left', on='SK_ID_CURR')\n",
    "\n",
    "data = data.merge(right=avg_pos.reset_index(), how='left', on='SK_ID_CURR')\n",
    "test = test.merge(right=avg_pos.reset_index(), how='left', on='SK_ID_CURR')\n",
    "\n",
    "data = data.merge(right=avg_cc_bal.reset_index(), how='left', on='SK_ID_CURR')\n",
    "test = test.merge(right=avg_cc_bal.reset_index(), how='left', on='SK_ID_CURR')\n",
    "\n",
    "data = data.merge(right=avg_inst.reset_index(), how='left', on='SK_ID_CURR')\n",
    "test = test.merge(right=avg_inst.reset_index(), how='left', on='SK_ID_CURR')\n",
    "\n",
    "train = data\n",
    "\n",
    "del avg_buro, avg_prev\n",
    "gc.collect()\n"
   ]
  },
  {
   "cell_type": "code",
   "execution_count": 49,
   "metadata": {
    "collapsed": false
   },
   "outputs": [],
   "source": [
    "train.to_csv('./data/created/train_revised.csv', sep=',', index=False)\n",
    "test.to_csv('./data/created/test_revised.csv', sep=',', index=False)"
   ]
  },
  {
   "cell_type": "code",
   "execution_count": 71,
   "metadata": {
    "collapsed": false
   },
   "outputs": [
    {
     "name": "stdout",
     "output_type": "stream",
     "text": [
      "train size is : (307511, 381)\n",
      "test size is : (48744, 380)\n",
      "all_data size is : (356255, 380)\n"
     ]
    }
   ],
   "source": [
    "#train, test = read_and_merge_data()\n",
    "train = pd.read_csv('./data/created/train_revised.csv', sep=',', header=0)\n",
    "test = pd.read_csv('./data/created/test_revised.csv', sep=',', header=0)\n",
    "\n",
    "all_data = pd.concat((train, test)).reset_index(drop=True)\n",
    "all_data.drop(['TARGET'], axis=1, inplace=True)\n",
    "\n",
    "print(\"train size is : {}\".format(train.shape))\n",
    "print(\"test size is : {}\".format(test.shape))\n",
    "print(\"all_data size is : {}\".format(all_data.shape))"
   ]
  },
  {
   "cell_type": "code",
   "execution_count": 54,
   "metadata": {
    "collapsed": false
   },
   "outputs": [],
   "source": [
    "def plot_missing_ratio(df):\n",
    "    missing = (df.isnull().sum() / len(df)) * 100\n",
    "    missing = missing.drop(missing[missing == 0].index).sort_values(ascending=False)\n",
    "\n",
    "    missing_ratio = pd.DataFrame({'Missing Ratio' :missing})\n",
    "\n",
    "    f, ax = plt.subplots(figsize=(15, 12))\n",
    "    plt.xticks(rotation='90')\n",
    "    sns.barplot(x=missing.index, y=missing, )\n",
    "    \n",
    "    if (len(df.columns) > 100):\n",
    "        ax.get_xaxis().set_visible(False)\n",
    "        \n",
    "    plt.xlabel('Features', fontsize=10)\n",
    "    plt.ylabel('Percent of missing values', fontsize=10)\n",
    "    plt.title('Percent missing data by feature', fontsize=10)"
   ]
  },
  {
   "cell_type": "code",
   "execution_count": 55,
   "metadata": {
    "collapsed": false
   },
   "outputs": [
    {
     "data": {
      "image/png": "[encoded data removed]",
      "text/plain": [
       "<matplotlib.figure.Figure at 0x1e99de902e8>"
      ]
     },
     "metadata": {},
     "output_type": "display_data"
    }
   ],
   "source": [
    "plot_missing_ratio(all_data)"
   ]
  },
  {
   "cell_type": "code",
   "execution_count": 4,
   "metadata": {
    "collapsed": true
   },
   "outputs": [],
   "source": [
    "categorical_columns = ['NAME_CONTRACT_TYPE',\n",
    "                       'CODE_GENDER',\n",
    "                       'FLAG_OWN_CAR',\n",
    "                       'FLAG_OWN_REALTY',\n",
    "                       'NAME_TYPE_SUITE',\n",
    "                       'NAME_INCOME_TYPE',\n",
    "                       'NAME_EDUCATION_TYPE',\n",
    "                       'NAME_FAMILY_STATUS',\n",
    "                       'NAME_HOUSING_TYPE',\n",
    "                       'OCCUPATION_TYPE',\n",
    "                       'WEEKDAY_APPR_PROCESS_START',\n",
    "                       'ORGANIZATION_TYPE',\n",
    "                       'FONDKAPREMONT_MODE',\n",
    "                       'HOUSETYPE_MODE',\n",
    "                       'WALLSMATERIAL_MODE',\n",
    "                       'EMERGENCYSTATE_MODE']"
   ]
  },
  {
   "cell_type": "code",
   "execution_count": 5,
   "metadata": {
    "collapsed": false
   },
   "outputs": [],
   "source": [
    "def replace_few_missing_with_default(df, max_ratio=5):\n",
    "\n",
    "    missing = (df.isnull().sum() / len(df)) * 100\n",
    "    missing = missing.drop(missing[missing == 0].index)\n",
    "    few_missing = missing.drop(missing[missing > max_ratio].index)\n",
    "\n",
    "    few_missing_columns = few_missing.index\n",
    "\n",
    "    for col in few_missing_columns:\n",
    "        df[col].fillna(df[col].value_counts().index[0], inplace = True)\n",
    "\n",
    "    return df"
   ]
  },
  {
   "cell_type": "code",
   "execution_count": 6,
   "metadata": {
    "collapsed": false
   },
   "outputs": [],
   "source": [
    "def replace_missing(df, categorical_columns):\n",
    "    \n",
    "    numeric_columns = list(df.select_dtypes(include=[np.number]).columns.values)\n",
    "    \n",
    "    df = replace_few_missing_with_default(df)\n",
    "    df[categorical_columns] = df[categorical_columns].fillna(\"UNKNOWN\") \n",
    "    \n",
    "    \"\"\"for col in categorical_columns:\n",
    "        if col in numeric_columns:\n",
    "            df[col] = df[col].fillna(-999) \n",
    "        else:\n",
    "            df[col] = df[col].fillna(\"UNKNOWN\") \"\"\"\n",
    "    \n",
    "    # Replace numeric values with mean\n",
    "    for col in numeric_columns:\n",
    "        if df[col].dtype == np.int:\n",
    "            df[col].fillna((df[col].median()), inplace = True) \n",
    "        else:\n",
    "            df[col].fillna((df[col].mean()), inplace = True)   \n",
    "            \n",
    "    return df"
   ]
  },
  {
   "cell_type": "code",
   "execution_count": 8,
   "metadata": {
    "collapsed": false
   },
   "outputs": [
    {
     "name": "stdout",
     "output_type": "stream",
     "text": [
      "Number of columns with missing data: 144\n",
      "Number of columns with missing data: 0\n"
     ]
    }
   ],
   "source": [
    "print(\"Number of columns with missing data: \" + str(len(all_data.columns[all_data.isnull().any()].tolist())))\n",
    "all_data = replace_missing(all_data, categorical_columns)\n",
    "print(\"Number of columns with missing data: \" + str(len(all_data.columns[all_data.isnull().any()].tolist())))"
   ]
  },
  {
   "cell_type": "code",
   "execution_count": 7,
   "metadata": {
    "collapsed": true
   },
   "outputs": [],
   "source": [
    "def process_categorical(df, categorical_columns):\n",
    "    \n",
    "    # Significance of categories for target, will later try more with this\n",
    "    #for col in categorical_columns:\n",
    "    #   df.groupby(col).mean()['TARGET'].sort_values(ascending=False)\n",
    "\n",
    "    df[categorical_columns] = df[categorical_columns].apply(preprocessing.LabelEncoder().fit_transform)\n",
    "    df[categorical_columns] = df[categorical_columns].astype(str)\n",
    "    df = pd.get_dummies(df)\n",
    "    \n",
    "    return df"
   ]
  },
  {
   "cell_type": "code",
   "execution_count": 10,
   "metadata": {
    "collapsed": false
   },
   "outputs": [
    {
     "data": {
      "text/html": [
       "<div>\n",
       "<style>\n",
       "    .dataframe thead tr:only-child th {\n",
       "        text-align: right;\n",
       "    }\n",
       "\n",
       "    .dataframe thead th {\n",
       "        text-align: left;\n",
       "    }\n",
       "\n",
       "    .dataframe tbody tr th {\n",
       "        vertical-align: top;\n",
       "    }\n",
       "</style>\n",
       "<table border=\"1\" class=\"dataframe\">\n",
       "  <thead>\n",
       "    <tr style=\"text-align: right;\">\n",
       "      <th></th>\n",
       "      <th>AMT_ANNUITY</th>\n",
       "      <th>AMT_ANNUITY_x</th>\n",
       "      <th>AMT_ANNUITY_y</th>\n",
       "      <th>AMT_APPLICATION</th>\n",
       "      <th>AMT_BALANCE</th>\n",
       "      <th>AMT_CREDIT_LIMIT_ACTUAL</th>\n",
       "      <th>AMT_CREDIT_MAX_OVERDUE</th>\n",
       "      <th>AMT_CREDIT_SUM</th>\n",
       "      <th>AMT_CREDIT_SUM_DEBT</th>\n",
       "      <th>AMT_CREDIT_SUM_LIMIT</th>\n",
       "      <th>...</th>\n",
       "      <th>WALLSMATERIAL_MODE_5</th>\n",
       "      <th>WALLSMATERIAL_MODE_6</th>\n",
       "      <th>WALLSMATERIAL_MODE_7</th>\n",
       "      <th>WEEKDAY_APPR_PROCESS_START_0</th>\n",
       "      <th>WEEKDAY_APPR_PROCESS_START_1</th>\n",
       "      <th>WEEKDAY_APPR_PROCESS_START_2</th>\n",
       "      <th>WEEKDAY_APPR_PROCESS_START_3</th>\n",
       "      <th>WEEKDAY_APPR_PROCESS_START_4</th>\n",
       "      <th>WEEKDAY_APPR_PROCESS_START_5</th>\n",
       "      <th>WEEKDAY_APPR_PROCESS_START_6</th>\n",
       "    </tr>\n",
       "  </thead>\n",
       "  <tbody>\n",
       "    <tr>\n",
       "      <th>0</th>\n",
       "      <td>9251.775</td>\n",
       "      <td>24700.5</td>\n",
       "      <td>0.0</td>\n",
       "      <td>179055.0</td>\n",
       "      <td>69973.192455</td>\n",
       "      <td>207320.669739</td>\n",
       "      <td>1681.029</td>\n",
       "      <td>108131.945625</td>\n",
       "      <td>49156.2</td>\n",
       "      <td>7997.14125</td>\n",
       "      <td>...</td>\n",
       "      <td>1</td>\n",
       "      <td>0</td>\n",
       "      <td>0</td>\n",
       "      <td>0</td>\n",
       "      <td>0</td>\n",
       "      <td>0</td>\n",
       "      <td>0</td>\n",
       "      <td>0</td>\n",
       "      <td>0</td>\n",
       "      <td>1</td>\n",
       "    </tr>\n",
       "  </tbody>\n",
       "</table>\n",
       "<p>1 rows × 327 columns</p>\n",
       "</div>"
      ],
      "text/plain": [
       "   AMT_ANNUITY  AMT_ANNUITY_x  AMT_ANNUITY_y  AMT_APPLICATION   AMT_BALANCE  \\\n",
       "0     9251.775        24700.5            0.0         179055.0  69973.192455   \n",
       "\n",
       "   AMT_CREDIT_LIMIT_ACTUAL  AMT_CREDIT_MAX_OVERDUE  AMT_CREDIT_SUM  \\\n",
       "0            207320.669739                1681.029   108131.945625   \n",
       "\n",
       "   AMT_CREDIT_SUM_DEBT  AMT_CREDIT_SUM_LIMIT              ...               \\\n",
       "0              49156.2            7997.14125              ...                \n",
       "\n",
       "   WALLSMATERIAL_MODE_5  WALLSMATERIAL_MODE_6  WALLSMATERIAL_MODE_7  \\\n",
       "0                     1                     0                     0   \n",
       "\n",
       "   WEEKDAY_APPR_PROCESS_START_0  WEEKDAY_APPR_PROCESS_START_1  \\\n",
       "0                             0                             0   \n",
       "\n",
       "   WEEKDAY_APPR_PROCESS_START_2  WEEKDAY_APPR_PROCESS_START_3  \\\n",
       "0                             0                             0   \n",
       "\n",
       "   WEEKDAY_APPR_PROCESS_START_4  WEEKDAY_APPR_PROCESS_START_5  \\\n",
       "0                             0                             0   \n",
       "\n",
       "   WEEKDAY_APPR_PROCESS_START_6  \n",
       "0                             1  \n",
       "\n",
       "[1 rows x 327 columns]"
      ]
     },
     "execution_count": 10,
     "metadata": {},
     "output_type": "execute_result"
    }
   ],
   "source": [
    "df_all = process_categorical(all_data, categorical_columns)\n",
    "df_all.head(1)"
   ]
  },
  {
   "cell_type": "code",
   "execution_count": 8,
   "metadata": {
    "collapsed": false
   },
   "outputs": [],
   "source": [
    "def rescale_data(df, mode='norm'):\n",
    "    scalable_columns = list(df.select_dtypes(include=[np.float]))\n",
    "    \n",
    "    if mode=='norm':\n",
    "        df[scalable_columns] = (df[scalable_columns] - np.min(df[scalable_columns])) \\\n",
    "                                / (np.max(df[scalable_columns]) - np.min(df[scalable_columns]))\n",
    "    elif mode=='stand':\n",
    "        df[scalable_columns] = (df[scalable_columns] - np.mean(df[scalable_columns])) \\\n",
    "                                / np.std(df[scalable_columns])\n",
    "    return df"
   ]
  },
  {
   "cell_type": "code",
   "execution_count": 12,
   "metadata": {
    "collapsed": false
   },
   "outputs": [
    {
     "data": {
      "text/html": [
       "<div>\n",
       "<style>\n",
       "    .dataframe thead tr:only-child th {\n",
       "        text-align: right;\n",
       "    }\n",
       "\n",
       "    .dataframe thead th {\n",
       "        text-align: left;\n",
       "    }\n",
       "\n",
       "    .dataframe tbody tr th {\n",
       "        vertical-align: top;\n",
       "    }\n",
       "</style>\n",
       "<table border=\"1\" class=\"dataframe\">\n",
       "  <thead>\n",
       "    <tr style=\"text-align: right;\">\n",
       "      <th></th>\n",
       "      <th>AMT_ANNUITY</th>\n",
       "      <th>AMT_ANNUITY_x</th>\n",
       "      <th>AMT_ANNUITY_y</th>\n",
       "      <th>AMT_APPLICATION</th>\n",
       "      <th>AMT_BALANCE</th>\n",
       "      <th>AMT_CREDIT_LIMIT_ACTUAL</th>\n",
       "      <th>AMT_CREDIT_MAX_OVERDUE</th>\n",
       "      <th>AMT_CREDIT_SUM</th>\n",
       "      <th>AMT_CREDIT_SUM_DEBT</th>\n",
       "      <th>AMT_CREDIT_SUM_LIMIT</th>\n",
       "      <th>...</th>\n",
       "      <th>SK_DPD_DEF_y</th>\n",
       "      <th>SK_DPD_x</th>\n",
       "      <th>SK_DPD_y</th>\n",
       "      <th>TOTALAREA_MODE</th>\n",
       "      <th>YEARS_BEGINEXPLUATATION_AVG</th>\n",
       "      <th>YEARS_BEGINEXPLUATATION_MEDI</th>\n",
       "      <th>YEARS_BEGINEXPLUATATION_MODE</th>\n",
       "      <th>YEARS_BUILD_AVG</th>\n",
       "      <th>YEARS_BUILD_MEDI</th>\n",
       "      <th>YEARS_BUILD_MODE</th>\n",
       "    </tr>\n",
       "  </thead>\n",
       "  <tbody>\n",
       "    <tr>\n",
       "      <th>0</th>\n",
       "      <td>0.030796</td>\n",
       "      <td>0.090032</td>\n",
       "      <td>0.0</td>\n",
       "      <td>0.044211</td>\n",
       "      <td>0.078255</td>\n",
       "      <td>0.153571</td>\n",
       "      <td>0.000014</td>\n",
       "      <td>0.000546</td>\n",
       "      <td>0.02144</td>\n",
       "      <td>0.02303</td>\n",
       "      <td>...</td>\n",
       "      <td>0.000093</td>\n",
       "      <td>0.0</td>\n",
       "      <td>0.002511</td>\n",
       "      <td>0.0149</td>\n",
       "      <td>0.9722</td>\n",
       "      <td>0.9722</td>\n",
       "      <td>0.9722</td>\n",
       "      <td>0.6192</td>\n",
       "      <td>0.6243</td>\n",
       "      <td>0.6341</td>\n",
       "    </tr>\n",
       "  </tbody>\n",
       "</table>\n",
       "<p>1 rows × 142 columns</p>\n",
       "</div>"
      ],
      "text/plain": [
       "   AMT_ANNUITY  AMT_ANNUITY_x  AMT_ANNUITY_y  AMT_APPLICATION  AMT_BALANCE  \\\n",
       "0     0.030796       0.090032            0.0         0.044211     0.078255   \n",
       "\n",
       "   AMT_CREDIT_LIMIT_ACTUAL  AMT_CREDIT_MAX_OVERDUE  AMT_CREDIT_SUM  \\\n",
       "0                 0.153571                0.000014        0.000546   \n",
       "\n",
       "   AMT_CREDIT_SUM_DEBT  AMT_CREDIT_SUM_LIMIT        ...         SK_DPD_DEF_y  \\\n",
       "0              0.02144               0.02303        ...             0.000093   \n",
       "\n",
       "   SK_DPD_x  SK_DPD_y  TOTALAREA_MODE  YEARS_BEGINEXPLUATATION_AVG  \\\n",
       "0       0.0  0.002511          0.0149                       0.9722   \n",
       "\n",
       "   YEARS_BEGINEXPLUATATION_MEDI  YEARS_BEGINEXPLUATATION_MODE  \\\n",
       "0                        0.9722                        0.9722   \n",
       "\n",
       "   YEARS_BUILD_AVG  YEARS_BUILD_MEDI  YEARS_BUILD_MODE  \n",
       "0           0.6192            0.6243            0.6341  \n",
       "\n",
       "[1 rows x 142 columns]"
      ]
     },
     "execution_count": 12,
     "metadata": {},
     "output_type": "execute_result"
    }
   ],
   "source": [
    "df_all = rescale_data(df_all)\n",
    "df_all.select_dtypes(include=[np.float]).head(1)"
   ]
  },
  {
   "cell_type": "code",
   "execution_count": 9,
   "metadata": {
    "collapsed": true
   },
   "outputs": [],
   "source": [
    "def detect_outliers(df, n, features):\n",
    "    \n",
    "    outlier_indices = []\n",
    "    \n",
    "    # iterate over features(columns)\n",
    "    for col in features:\n",
    "        # 1st quartile (25%)\n",
    "        Q1 = df[col].quantile(.25)\n",
    "        # 3rd quartile (75%)\n",
    "        Q3 = df[col].quantile(.75)\n",
    "        \n",
    "        # Interquartile range (IQR)\n",
    "        IQR = Q3 - Q1\n",
    "        \n",
    "        # outlier step\n",
    "        outlier_step = 1.5 * IQR\n",
    "        \n",
    "        # Determine a list of indices of outliers for feature col\n",
    "        outlier_list_col = df[(df[col] < Q1 - outlier_step) | (df[col] > Q3 + outlier_step )].index\n",
    "        \n",
    "        # append the found outlier indices for col to the list of outlier indices \n",
    "        outlier_indices.extend(outlier_list_col)\n",
    "        \n",
    "    # select observations containing more than 2 outliers\n",
    "    outlier_indices = Counter(outlier_indices)        \n",
    "    multiple_outliers = list( k for k, v in outlier_indices.items() if v > n )\n",
    "    \n",
    "    return multiple_outliers"
   ]
  },
  {
   "cell_type": "code",
   "execution_count": 12,
   "metadata": {
    "collapsed": true
   },
   "outputs": [],
   "source": [
    "def downsample_outliers(df, outliers):\n",
    "    \n",
    "    outlier_df = df.iloc[outliers]\n",
    "    outlier_df[(outlier_df['TARGET'] == 0)]\n",
    "    negative_outliers = list(outlier_df.index)\n",
    "    \n",
    "    df = df.drop(negative_outliers).reset_index(drop=True)\n",
    "    \n",
    "    return df"
   ]
  },
  {
   "cell_type": "code",
   "execution_count": 78,
   "metadata": {
    "collapsed": false
   },
   "outputs": [
    {
     "name": "stdout",
     "output_type": "stream",
     "text": [
      "Number of outliers found: 522\n"
     ]
    }
   ],
   "source": [
    "float_columns = list(train.select_dtypes(include=[np.float]).columns.values)\n",
    "outlier_rows = detect_outliers(train, 43, float_columns)\n",
    "print('Number of outliers found: ' + str(len(outlier_rows)))"
   ]
  },
  {
   "cell_type": "code",
   "execution_count": 52,
   "metadata": {
    "collapsed": false
   },
   "outputs": [
    {
     "name": "stdout",
     "output_type": "stream",
     "text": [
      "(307511, 381)\n",
      "(300994, 381)\n"
     ]
    }
   ],
   "source": [
    "print(train.shape)\n",
    "train = downsample_outliers(train, outlier_rows)\n",
    "print(train.shape)"
   ]
  },
  {
   "cell_type": "code",
   "execution_count": 10,
   "metadata": {
    "collapsed": true
   },
   "outputs": [],
   "source": [
    "def preprocess_data(df, categorical_columns):\n",
    "    \n",
    "    df = replace_missing(df, categorical_columns)\n",
    "    df = process_categorical(df, categorical_columns)\n",
    "    df = rescale_data(df)\n",
    "    df = df.drop('SK_ID_CURR', axis=1)\n",
    "    \n",
    "    return df"
   ]
  },
  {
   "cell_type": "code",
   "execution_count": 25,
   "metadata": {
    "collapsed": false
   },
   "outputs": [
    {
     "name": "stdout",
     "output_type": "stream",
     "text": [
      "Training set shape before removing outliers: (307511, 381)\n",
      "Training set shape: (306989, 510)\n",
      "Test set shape: (48744, 509)\n",
      "Number of columns with missing data: 0\n"
     ]
    },
    {
     "data": {
      "text/html": [
       "<div>\n",
       "<style>\n",
       "    .dataframe thead tr:only-child th {\n",
       "        text-align: right;\n",
       "    }\n",
       "\n",
       "    .dataframe thead th {\n",
       "        text-align: left;\n",
       "    }\n",
       "\n",
       "    .dataframe tbody tr th {\n",
       "        vertical-align: top;\n",
       "    }\n",
       "</style>\n",
       "<table border=\"1\" class=\"dataframe\">\n",
       "  <thead>\n",
       "    <tr style=\"text-align: right;\">\n",
       "      <th></th>\n",
       "      <th>CNT_CHILDREN</th>\n",
       "      <th>AMT_INCOME_TOTAL</th>\n",
       "      <th>AMT_CREDIT_x</th>\n",
       "      <th>AMT_ANNUITY_x</th>\n",
       "      <th>AMT_GOODS_PRICE_x</th>\n",
       "      <th>REGION_POPULATION_RELATIVE</th>\n",
       "      <th>DAYS_BIRTH</th>\n",
       "      <th>DAYS_EMPLOYED</th>\n",
       "      <th>DAYS_REGISTRATION</th>\n",
       "      <th>DAYS_ID_PUBLISH</th>\n",
       "      <th>...</th>\n",
       "      <th>WALLSMATERIAL_MODE_1</th>\n",
       "      <th>WALLSMATERIAL_MODE_2</th>\n",
       "      <th>WALLSMATERIAL_MODE_3</th>\n",
       "      <th>WALLSMATERIAL_MODE_4</th>\n",
       "      <th>WALLSMATERIAL_MODE_5</th>\n",
       "      <th>WALLSMATERIAL_MODE_6</th>\n",
       "      <th>WALLSMATERIAL_MODE_7</th>\n",
       "      <th>EMERGENCYSTATE_MODE_0</th>\n",
       "      <th>EMERGENCYSTATE_MODE_1</th>\n",
       "      <th>EMERGENCYSTATE_MODE_2</th>\n",
       "    </tr>\n",
       "  </thead>\n",
       "  <tbody>\n",
       "    <tr>\n",
       "      <th>0</th>\n",
       "      <td>0</td>\n",
       "      <td>0.001512</td>\n",
       "      <td>0.090287</td>\n",
       "      <td>0.090032</td>\n",
       "      <td>0.077441</td>\n",
       "      <td>0.256702</td>\n",
       "      <td>-9461</td>\n",
       "      <td>-637</td>\n",
       "      <td>0.85214</td>\n",
       "      <td>-2120</td>\n",
       "      <td>...</td>\n",
       "      <td>1</td>\n",
       "      <td>0</td>\n",
       "      <td>0</td>\n",
       "      <td>0</td>\n",
       "      <td>0</td>\n",
       "      <td>0</td>\n",
       "      <td>0</td>\n",
       "      <td>0</td>\n",
       "      <td>1</td>\n",
       "      <td>0</td>\n",
       "    </tr>\n",
       "  </tbody>\n",
       "</table>\n",
       "<p>1 rows × 509 columns</p>\n",
       "</div>"
      ],
      "text/plain": [
       "   CNT_CHILDREN  AMT_INCOME_TOTAL  AMT_CREDIT_x  AMT_ANNUITY_x  \\\n",
       "0             0          0.001512      0.090287       0.090032   \n",
       "\n",
       "   AMT_GOODS_PRICE_x  REGION_POPULATION_RELATIVE  DAYS_BIRTH  DAYS_EMPLOYED  \\\n",
       "0           0.077441                    0.256702       -9461           -637   \n",
       "\n",
       "   DAYS_REGISTRATION  DAYS_ID_PUBLISH          ...            \\\n",
       "0            0.85214            -2120          ...             \n",
       "\n",
       "   WALLSMATERIAL_MODE_1  WALLSMATERIAL_MODE_2  WALLSMATERIAL_MODE_3  \\\n",
       "0                     1                     0                     0   \n",
       "\n",
       "   WALLSMATERIAL_MODE_4  WALLSMATERIAL_MODE_5  WALLSMATERIAL_MODE_6  \\\n",
       "0                     0                     0                     0   \n",
       "\n",
       "   WALLSMATERIAL_MODE_7  EMERGENCYSTATE_MODE_0  EMERGENCYSTATE_MODE_1  \\\n",
       "0                     0                      0                      1   \n",
       "\n",
       "   EMERGENCYSTATE_MODE_2  \n",
       "0                      0  \n",
       "\n",
       "[1 rows x 509 columns]"
      ]
     },
     "execution_count": 25,
     "metadata": {},
     "output_type": "execute_result"
    }
   ],
   "source": [
    "train = pd.read_csv('./data/created/train_revised.csv', sep=',', header=0)\n",
    "test = pd.read_csv('./data/created/test_revised.csv', sep=',', header=0)\n",
    "\n",
    "print('Training set shape before removing outliers: ' + str(train.shape))\n",
    "float_columns = list(train.select_dtypes(include=[np.float]).columns.values)\n",
    "outlier_rows = detect_outliers(train, 43, float_columns)\n",
    "train = downsample_outliers(train, outlier_rows)\n",
    "\n",
    "m_train = train.shape[0]\n",
    "m_test = test.shape[0]\n",
    "y = train['TARGET']\n",
    "train.drop(['TARGET'], axis=1, inplace=True)\n",
    "\n",
    "ids = test['SK_ID_CURR']\n",
    "\n",
    "all_data = pd.concat((train, test)).reset_index(drop=True)\n",
    "all_data = preprocess_data(all_data, categorical_columns)\n",
    "\n",
    "train = all_data.loc[0:m_train-1].copy()\n",
    "test = all_data.loc[m_train:].copy()\n",
    "\n",
    "train['TARGET'] = y\n",
    "\n",
    "print('Training set shape: ' + str(train.shape))\n",
    "print('Test set shape: ' + str(test.shape))\n",
    "\n",
    "print(\"Number of columns with missing data: \" + str(len(all_data.columns[all_data.isnull().any()].tolist())))\n",
    "\n",
    "all_data.head(1)"
   ]
  },
  {
   "cell_type": "code",
   "execution_count": 14,
   "metadata": {
    "collapsed": false
   },
   "outputs": [],
   "source": [
    "def split_data(df):\n",
    "    \n",
    "    df_train = df.sample(frac = 0.9, random_state = 42)\n",
    "    df_val = df.drop(df_train.index)  \n",
    "    \n",
    "    X_train = df_train.drop(['TARGET'], axis=1).values\n",
    "    y_train = df_train['TARGET'].values\n",
    "    \n",
    "    X_val = df_val.drop(['TARGET'], axis=1).values\n",
    "    y_val = df_val['TARGET'].values\n",
    "    \n",
    "    return X_train, y_train, X_val, y_val"
   ]
  },
  {
   "cell_type": "code",
   "execution_count": 15,
   "metadata": {
    "collapsed": false
   },
   "outputs": [],
   "source": [
    "X_train, y_train, X_val, y_val = split_data(train)"
   ]
  },
  {
   "cell_type": "code",
   "execution_count": 117,
   "metadata": {
    "collapsed": true
   },
   "outputs": [],
   "source": [
    "def oversample(X, y):\n",
    "    \n",
    "    print('Y mean: {0}'.format(np.mean(y)))\n",
    "    \n",
    "    sm = SMOTE(random_state=42, out_step=0.2)\n",
    "    \n",
    "    X_res, y_res = sm.fit_sample(X, y, )\n",
    "    \n",
    "    print('Y oversampled mean: {0}'.format(np.mean(y_res)))\n",
    "    \n",
    "    return X_res, y_res"
   ]
  },
  {
   "cell_type": "code",
   "execution_count": 118,
   "metadata": {
    "collapsed": false
   },
   "outputs": [
    {
     "name": "stdout",
     "output_type": "stream",
     "text": [
      "Y mean: 0.08068695935430165\n",
      "Y oversampled mean: 0.5\n",
      "X shape: (507994, 509)\n",
      "y shape: (507994,)\n"
     ]
    }
   ],
   "source": [
    "X_train_res, y_train_res = oversample(X_train, y_train)\n",
    "\n",
    "print('X shape: ' + str(X_train_res.shape))\n",
    "print('y shape: ' + str(y_train_res.shape))"
   ]
  },
  {
   "cell_type": "code",
   "execution_count": 16,
   "metadata": {
    "collapsed": false
   },
   "outputs": [],
   "source": [
    "def train_lgbm_clf(clf, X_train, y_train, X_val, y_val):\n",
    "    \n",
    "    clf.fit(X_train, y_train, \n",
    "            eval_set= [(X_val, y_val)],\n",
    "            eval_metric='auc', \n",
    "            verbose=250, \n",
    "            early_stopping_rounds=150\n",
    "           )\n",
    "    \n",
    "    y_act, y_pred = y_val, clf.predict(X_val)\n",
    "    scores = cross_val_score(clf, X_val, y_val, cv=10, scoring='roc_auc')\n",
    "    print(\"Validation Accuracy: %0.2f (+/- %0.2f)\" % (scores.mean(), scores.std()))\n",
    "    \n",
    "    return clf"
   ]
  },
  {
   "cell_type": "code",
   "execution_count": 20,
   "metadata": {
    "collapsed": false
   },
   "outputs": [
    {
     "name": "stdout",
     "output_type": "stream",
     "text": [
      "Training until validation scores don't improve for 150 rounds.\n",
      "[250]\tvalid_0's auc: 0.767845\n",
      "[500]\tvalid_0's auc: 0.775832\n",
      "[750]\tvalid_0's auc: 0.77816\n",
      "[1000]\tvalid_0's auc: 0.779002\n",
      "[1250]\tvalid_0's auc: 0.779445\n",
      "[1500]\tvalid_0's auc: 0.779643\n",
      "[1750]\tvalid_0's auc: 0.779666\n",
      "Early stopping, best iteration is:\n",
      "[1648]\tvalid_0's auc: 0.779905\n",
      "Validation Accuracy: 0.71 (+/- 0.02)\n"
     ]
    }
   ],
   "source": [
    "lgbm_clf = LGBMClassifier(nthread=4,\n",
    "                          n_estimators=10000,\n",
    "                          learning_rate=0.03,\n",
    "                          num_leaves=34,\n",
    "                          colsample_bytree=0.9497036,\n",
    "                          subsample=0.8715623,\n",
    "                          max_depth=8,\n",
    "                          reg_alpha=0.041545473,\n",
    "                          reg_lambda=0.0735294,\n",
    "                          min_split_gain=0.0222415,\n",
    "                          min_child_weight=39.3259775,\n",
    "                          silent=-1,\n",
    "                          verbose=-1,)\n",
    "\n",
    "lgbm_clf = train_lgbm_clf(lgbm_clf, X_train, y_train, X_val, y_val)"
   ]
  },
  {
   "cell_type": "code",
   "execution_count": 21,
   "metadata": {
    "collapsed": true
   },
   "outputs": [],
   "source": [
    "def predict(df, ids, clf, export_path):\n",
    "    \n",
    "    # Make predictions\n",
    "    X = df.values\n",
    "    y = clf.predict_proba(X, num_iteration=clf.best_iteration_)[:, 1]\n",
    "    \n",
    "    # Combine ids and predictions\n",
    "    y = np.column_stack((ids, y))\n",
    "    \n",
    "    # Restore pandas df\n",
    "    pred = pd.DataFrame(y)\n",
    "    pred.columns = [\"SK_ID_CURR\", \"TARGET\"]\n",
    "    \n",
    "    pred[\"SK_ID_CURR\"] = pred[\"SK_ID_CURR\"].astype('int64')\n",
    "    \n",
    "    # Export\n",
    "    pred.to_csv(export_path, sep=',', index=False)\n",
    "    \n",
    "    return pred"
   ]
  },
  {
   "cell_type": "code",
   "execution_count": 22,
   "metadata": {
    "collapsed": false
   },
   "outputs": [],
   "source": [
    "#df_test = pd.read_csv('./data/application_test.csv', sep=',', header=0)\n",
    "#df_pred = predict(df_test, rf_clf, categorical_columns, './predictions/rf_pred.csv')\n",
    "pred = predict(test, ids, lgbm_clf, './predictions/lgbm_pred.csv')"
   ]
  },
  {
   "cell_type": "code",
   "execution_count": null,
   "metadata": {
    "collapsed": true
   },
   "outputs": [],
   "source": [
    "def train_model(train_, test_, y_, folds_):\n",
    "\n",
    "    oof_preds = np.zeros(train_.shape[0])\n",
    "    sub_preds = np.zeros(test_.shape[0])\n",
    "    \n",
    "    feature_importance_df = pd.DataFrame()\n",
    "    \n",
    "    feats = [f for f in train_.columns if f not in ['SK_ID_CURR']]\n",
    "    \n",
    "    for n_fold, (trn_idx, val_idx) in enumerate(folds_.split(train_)):\n",
    "        trn_x, trn_y = train_[feats].iloc[trn_idx], y_.iloc[trn_idx]\n",
    "        val_x, val_y = train_[feats].iloc[val_idx], y_.iloc[val_idx]\n",
    "        \n",
    "        clf = LGBMClassifier(\n",
    "            nthread=4,\n",
    "            n_estimators=10000,\n",
    "            learning_rate=0.03,\n",
    "            num_leaves=34,\n",
    "            colsample_bytree=0.9497036,\n",
    "            subsample=0.8715623,\n",
    "            max_depth=8,\n",
    "            reg_alpha=0.041545473,\n",
    "            reg_lambda=0.0735294,\n",
    "            min_split_gain=0.0222415,\n",
    "            min_child_weight=39.3259775,\n",
    "            silent=-1,\n",
    "            verbose=-1,\n",
    "        )\n",
    "        \n",
    "        clf.fit(trn_x, trn_y, \n",
    "                eval_set= [(trn_x, trn_y), (val_x, val_y)], \n",
    "                eval_metric='auc', verbose=100, early_stopping_rounds=100  #30\n",
    "               )\n",
    "        \n",
    "        oof_preds[val_idx] = clf.predict_proba(val_x, num_iteration=clf.best_iteration_)[:, 1]\n",
    "        sub_preds += clf.predict_proba(test_[feats], num_iteration=clf.best_iteration_)[:, 1] / folds_.n_splits\n",
    "        \n",
    "        fold_importance_df = pd.DataFrame()\n",
    "        fold_importance_df[\"feature\"] = feats\n",
    "        fold_importance_df[\"importance\"] = clf.feature_importances_\n",
    "        fold_importance_df[\"fold\"] = n_fold + 1\n",
    "        feature_importance_df = pd.concat([feature_importance_df, fold_importance_df], axis=0)\n",
    "        \n",
    "        print('Fold %2d AUC : %.6f' % (n_fold + 1, roc_auc_score(val_y, oof_preds[val_idx])))\n",
    "        del clf, trn_x, trn_y, val_x, val_y\n",
    "        gc.collect()\n",
    "        \n",
    "    print('Full AUC score %.6f' % roc_auc_score(y, oof_preds)) \n",
    "    \n",
    "    test_['TARGET'] = sub_preds\n",
    "\n",
    "    return oof_preds, test_[['TARGET']], feature_importance_df"
   ]
  },
  {
   "cell_type": "code",
   "execution_count": null,
   "metadata": {
    "collapsed": false
   },
   "outputs": [
    {
     "name": "stdout",
     "output_type": "stream",
     "text": [
      "Training until validation scores don't improve for 100 rounds.\n",
      "[100]\ttraining's auc: 0.7596\tvalid_1's auc: 0.757426\n",
      "[200]\ttraining's auc: 0.791861\tvalid_1's auc: 0.778555\n",
      "[300]\ttraining's auc: 0.808203\tvalid_1's auc: 0.785549\n",
      "[400]\ttraining's auc: 0.820324\tvalid_1's auc: 0.788281\n",
      "[500]\ttraining's auc: 0.830441\tvalid_1's auc: 0.789812\n",
      "[600]\ttraining's auc: 0.839234\tvalid_1's auc: 0.79039\n",
      "[700]\ttraining's auc: 0.847505\tvalid_1's auc: 0.790777\n",
      "Early stopping, best iteration is:\n",
      "[698]\ttraining's auc: 0.847315\tvalid_1's auc: 0.790799\n",
      "Fold  1 AUC : 0.790799\n",
      "Training until validation scores don't improve for 100 rounds.\n",
      "[100]\ttraining's auc: 0.763232\tvalid_1's auc: 0.741797\n",
      "[200]\ttraining's auc: 0.795007\tvalid_1's auc: 0.7635\n",
      "[300]\ttraining's auc: 0.811197\tvalid_1's auc: 0.770294\n",
      "[400]\ttraining's auc: 0.822802\tvalid_1's auc: 0.773166\n",
      "[500]\ttraining's auc: 0.832799\tvalid_1's auc: 0.774517\n",
      "[600]\ttraining's auc: 0.841525\tvalid_1's auc: 0.775093\n",
      "[700]\ttraining's auc: 0.849225\tvalid_1's auc: 0.775549\n",
      "[800]\ttraining's auc: 0.856869\tvalid_1's auc: 0.775745\n",
      "[900]\ttraining's auc: 0.864214\tvalid_1's auc: 0.775716\n",
      "Early stopping, best iteration is:\n",
      "[838]\ttraining's auc: 0.8598\tvalid_1's auc: 0.775879\n",
      "Fold  2 AUC : 0.775879\n",
      "Training until validation scores don't improve for 100 rounds.\n",
      "[100]\ttraining's auc: 0.761889\tvalid_1's auc: 0.746658\n",
      "[200]\ttraining's auc: 0.792825\tvalid_1's auc: 0.769077\n"
     ]
    }
   ],
   "source": [
    "folds = KFold(n_splits=5, shuffle=True, random_state=1337)\n",
    "\n",
    "y = train['TARGET']\n",
    "train.drop(['TARGET'], axis=1, inplace=True)\n",
    "\n",
    "oof_preds, test_preds, importances = train_model(train, test, y, folds)"
   ]
  },
  {
   "cell_type": "code",
   "execution_count": null,
   "metadata": {
    "collapsed": false
   },
   "outputs": [],
   "source": [
    "y_pred = test_preds.values\n",
    "ids_pred = ids.values\n",
    "pred = np.column_stack((ids_pred, y_pred))\n",
    "pred = pd.DataFrame(pred)\n",
    "pred.columns = [\"SK_ID_CURR\", \"TARGET\"]\n",
    "pred[\"SK_ID_CURR\"] = pred[\"SK_ID_CURR\"].astype('int64')\n",
    "pred.to_csv('./predictions/lgbm_pred.csv', index=False)"
   ]
  },
  {
   "cell_type": "code",
   "execution_count": null,
   "metadata": {
    "collapsed": false
   },
   "outputs": [],
   "source": [
    "pred.head(3)"
   ]
  },
  {
   "cell_type": "code",
   "execution_count": 50,
   "metadata": {
    "collapsed": false
   },
   "outputs": [
    {
     "data": {
      "text/html": [
       "<div>\n",
       "<style>\n",
       "    .dataframe thead tr:only-child th {\n",
       "        text-align: right;\n",
       "    }\n",
       "\n",
       "    .dataframe thead th {\n",
       "        text-align: left;\n",
       "    }\n",
       "\n",
       "    .dataframe tbody tr th {\n",
       "        vertical-align: top;\n",
       "    }\n",
       "</style>\n",
       "<table border=\"1\" class=\"dataframe\">\n",
       "  <thead>\n",
       "    <tr style=\"text-align: right;\">\n",
       "      <th></th>\n",
       "      <th>SK_ID_CURR</th>\n",
       "      <th>TARGET</th>\n",
       "    </tr>\n",
       "  </thead>\n",
       "  <tbody>\n",
       "    <tr>\n",
       "      <th>0</th>\n",
       "      <td>100001</td>\n",
       "      <td>0.027959</td>\n",
       "    </tr>\n",
       "    <tr>\n",
       "      <th>1</th>\n",
       "      <td>100005</td>\n",
       "      <td>0.133590</td>\n",
       "    </tr>\n",
       "    <tr>\n",
       "      <th>2</th>\n",
       "      <td>100013</td>\n",
       "      <td>0.024429</td>\n",
       "    </tr>\n",
       "  </tbody>\n",
       "</table>\n",
       "</div>"
      ],
      "text/plain": [
       "   SK_ID_CURR    TARGET\n",
       "0      100001  0.027959\n",
       "1      100005  0.133590\n",
       "2      100013  0.024429"
      ]
     },
     "execution_count": 50,
     "metadata": {},
     "output_type": "execute_result"
    }
   ],
   "source": [
    "pred.head(3)"
   ]
  }
 ],
 "metadata": {
  "kernelspec": {
   "display_name": "tensorflow",
   "language": "python",
   "name": "tensorflow"
  },
  "language_info": {
   "codemirror_mode": {
    "name": "ipython",
    "version": 3
   },
   "file_extension": ".py",
   "mimetype": "text/x-python",
   "name": "python",
   "nbconvert_exporter": "python",
   "pygments_lexer": "ipython3",
   "version": "3.5.3"
  }
 },
 "nbformat": 4,
 "nbformat_minor": 2
}
