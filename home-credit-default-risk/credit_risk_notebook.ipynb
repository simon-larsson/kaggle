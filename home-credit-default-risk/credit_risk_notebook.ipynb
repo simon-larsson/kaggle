{
 "cells": [
  {
   "cell_type": "code",
   "execution_count": 1,
   "metadata": {
    "collapsed": true
   },
   "outputs": [],
   "source": [
    "import numpy as np\n",
    "import pandas as pd\n",
    "import matplotlib.pyplot as plt\n",
    "import sklearn as sk\n",
    "from sklearn import svm\n",
    "from sklearn import preprocessing\n",
    "from sklearn.model_selection import cross_val_score\n",
    "from sklearn.metrics import classification_report\n",
    "from lightgbm import LGBMClassifier\n",
    "from collections import Counter\n",
    "import sklearn.ensemble as ske\n",
    "import seaborn as sns\n",
    "%matplotlib inline"
   ]
  },
  {
   "cell_type": "code",
   "execution_count": 2,
   "metadata": {
    "collapsed": true
   },
   "outputs": [],
   "source": [
    "# Removes a warning in sklearn that will be fixed during an update mid 2018\n",
    "import warnings\n",
    "\n",
    "if __name__ == '__main__':\n",
    "    warnings.filterwarnings(action='ignore', category=DeprecationWarning)\n",
    "    le = preprocessing.LabelEncoder()\n",
    "    le.fit([1, 2, 2, 6])\n",
    "    le.transform([1, 1, 2, 6])\n",
    "    le.inverse_transform([0, 0, 1, 2])"
   ]
  },
  {
   "cell_type": "code",
   "execution_count": 17,
   "metadata": {
    "collapsed": true
   },
   "outputs": [],
   "source": [
    "def merge_bureau_balance(bureau, bureau_balance):\n",
    "    bureau_balance = bureau_balance[bureau_balance['MONTHS_BALANCE'] == -1]\n",
    "    bureau_balance.drop(['MONTHS_BALANCE'], axis=1, inplace=True)\n",
    "\n",
    "    bureau = pd.merge(bureau, bureau_balance, left_index=True, right_index=True, on='SK_ID_BUREAU')\n",
    "\n",
    "    return bureau"
   ]
  },
  {
   "cell_type": "code",
   "execution_count": 18,
   "metadata": {
    "collapsed": false
   },
   "outputs": [],
   "source": [
    "def read_and_merge_data():\n",
    "\n",
    "    print('Reading train/test...')\n",
    "    application_train = pd.read_csv('./data/application_train.csv', sep=',', header=0)\n",
    "    application_test = pd.read_csv('./data/application_test.csv', sep=',', header=0)\n",
    "    \n",
    "    print('Training set shape: ' + str(application_train.shape))\n",
    "    print('Test set shape: ' + str(application_test.shape))\n",
    "    print()\n",
    "    \n",
    "    print('Reading external data...')\n",
    "    POS_CASH = pd.read_csv('./data/POS_CASH_balance.csv', sep=',', header=0)\n",
    "    credit_card = pd.read_csv('./data/credit_card_balance.csv', sep=',', header=0)\n",
    "    bureau = pd.read_csv('./data/bureau.csv', sep=',', header=0)\n",
    "    bureau_balance = pd.read_csv('./data/bureau_balance.csv', sep=',', header=0)\n",
    "    previous_app = pd.read_csv('./data/previous_application.csv', sep=',', header=0)\n",
    "    \n",
    "    print('POS_CASH set shape: ' + str(POS_CASH.shape))\n",
    "    print('credit_card set shape: ' + str(credit_card.shape))\n",
    "    print('bureau set shape: ' + str(bureau.shape))\n",
    "    print('bureau_balance set shape: ' + str(bureau_balance.shape))\n",
    "    print('previous_app set shape: ' + str(previous_app.shape))\n",
    "    print()\n",
    "  \n",
    "    print(\"Converting...\")\n",
    "    le = preprocessing.LabelEncoder()\n",
    "    POS_CASH['NAME_CONTRACT_STATUS'] = le.fit_transform(POS_CASH['NAME_CONTRACT_STATUS'].astype(str))\n",
    "    nunique_status = POS_CASH[['SK_ID_CURR', 'NAME_CONTRACT_STATUS']].groupby('SK_ID_CURR').nunique()\n",
    "    POS_CASH['NUNIQUE_STATUS'] = nunique_status['NAME_CONTRACT_STATUS']\n",
    "    POS_CASH.drop(['SK_ID_PREV', 'NAME_CONTRACT_STATUS'], axis=1, inplace=True)\n",
    "\n",
    "    credit_card['NAME_CONTRACT_STATUS'] = le.fit_transform(credit_card['NAME_CONTRACT_STATUS'].astype(str))\n",
    "    nunique_status = credit_card[['SK_ID_CURR', 'NAME_CONTRACT_STATUS']].groupby('SK_ID_CURR').nunique()\n",
    "    credit_card['NUNIQUE_STATUS'] = nunique_status['NAME_CONTRACT_STATUS']\n",
    "    credit_card.drop(['SK_ID_PREV', 'NAME_CONTRACT_STATUS'], axis=1, inplace=True)\n",
    "\n",
    "    bureau = merge_bureau_balance(bureau, bureau_balance)\n",
    "    \n",
    "    bureau_cat_features = [f for f in bureau.columns if bureau[f].dtype == 'object']\n",
    "    for f in bureau_cat_features:\n",
    "        bureau[f] = le.fit_transform(bureau[f].astype(str))\n",
    "        nunique = bureau[['SK_ID_CURR', f]].groupby('SK_ID_CURR').nunique()\n",
    "        bureau['NUNIQUE_' + f] = nunique[f]\n",
    "        bureau.drop([f], axis=1, inplace=True)\n",
    "    bureau.drop(['SK_ID_BUREAU'], axis=1, inplace=True)\n",
    "\n",
    "    previous_app_cat_features = [f for f in previous_app.columns if previous_app[f].dtype == 'object']\n",
    "    for f in previous_app_cat_features:\n",
    "        previous_app[f] = le.fit_transform(previous_app[f].astype(str))\n",
    "        nunique = previous_app[['SK_ID_CURR', f]].groupby('SK_ID_CURR').nunique()\n",
    "        previous_app['NUNIQUE_' + f] = nunique[f]\n",
    "        previous_app.drop([f], axis=1, inplace=True)\n",
    "    previous_app.drop(['SK_ID_PREV'], axis=1, inplace=True)\n",
    "    print('Finished converting')\n",
    "    print()\n",
    "\n",
    "    print(\"Merging...\")\n",
    "    train = application_train.merge(POS_CASH.groupby('SK_ID_CURR').mean().reset_index(),\n",
    "                                                                 how='left', on='SK_ID_CURR')\n",
    "    test = application_test.merge(POS_CASH.groupby('SK_ID_CURR').mean().reset_index(),\n",
    "                                                               how='left', on='SK_ID_CURR')\n",
    "\n",
    "    train = train.merge(credit_card.groupby('SK_ID_CURR').mean().reset_index(),\n",
    "                                                             how='left', on='SK_ID_CURR')\n",
    "    test = test.merge(credit_card.groupby('SK_ID_CURR').mean().reset_index(),\n",
    "                                                           how='left', on='SK_ID_CURR')\n",
    "\n",
    "    train = train.merge(bureau.groupby('SK_ID_CURR').mean().reset_index(),\n",
    "                                                        how='left', on='SK_ID_CURR')\n",
    "    test = test.merge(bureau.groupby('SK_ID_CURR').mean().reset_index(),\n",
    "                                                      how='left', on='SK_ID_CURR')\n",
    "\n",
    "    train = train.merge(previous_app.groupby('SK_ID_CURR').mean().reset_index(),\n",
    "                                                              how='left', on='SK_ID_CURR')\n",
    "    test = test.merge(previous_app.groupby('SK_ID_CURR').mean().reset_index(),\n",
    "                                                            how='left', on='SK_ID_CURR')\n",
    "    print('Finished merging')\n",
    "    print()\n",
    "\n",
    "    print('Training set shape: ' + str(train.shape))\n",
    "    print('Test set shape: ' + str(test.shape))\n",
    "    print()\n",
    "    \n",
    "    return train, test"
   ]
  },
  {
   "cell_type": "code",
   "execution_count": 4,
   "metadata": {
    "collapsed": false
   },
   "outputs": [
    {
     "name": "stdout",
     "output_type": "stream",
     "text": [
      "train size is : (307511, 199)\n",
      "test size is : (48744, 198)\n",
      "all_data size is : (356255, 198)\n"
     ]
    }
   ],
   "source": [
    "#train, test = read_and_merge_data()\n",
    "train = pd.read_csv('./data/train_merged.csv', sep=',', header=0)\n",
    "test = pd.read_csv('./data/test_merged.csv', sep=',', header=0)\n",
    "\n",
    "all_data = pd.concat((train, test)).reset_index(drop=True)\n",
    "all_data.drop(['TARGET'], axis=1, inplace=True)\n",
    "\n",
    "print(\"train size is : {}\".format(train.shape))\n",
    "print(\"test size is : {}\".format(test.shape))\n",
    "print(\"all_data size is : {}\".format(all_data.shape))"
   ]
  },
  {
   "cell_type": "code",
   "execution_count": 19,
   "metadata": {
    "collapsed": false
   },
   "outputs": [],
   "source": [
    "def plot_missing_ratio(df):\n",
    "    missing = (all_data.isnull().sum() / len(all_data)) * 100\n",
    "    missing = missing.drop(missing[missing == 0].index).sort_values(ascending=False)\n",
    "\n",
    "    missing_ratio = pd.DataFrame({'Missing Ratio' :missing})\n",
    "\n",
    "    f, ax = plt.subplots(figsize=(15, 12))\n",
    "    plt.xticks(rotation='90')\n",
    "    sns.barplot(x=missing.index, y=missing)\n",
    "    plt.xlabel('Features', fontsize=10)\n",
    "    plt.ylabel('Percent of missing values', fontsize=10)\n",
    "    plt.title('Percent missing data by feature', fontsize=10)"
   ]
  },
  {
   "cell_type": "code",
   "execution_count": 21,
   "metadata": {
    "collapsed": false
   },
   "outputs": [
    {
     "data": {
      "image/png": "[encoded data removed]",
      "text/plain": [
       "<matplotlib.figure.Figure at 0x283e6979a20>"
      ]
     },
     "metadata": {},
     "output_type": "display_data"
    }
   ],
   "source": [
    "plot_missing_ratio(all_data)"
   ]
  },
  {
   "cell_type": "code",
   "execution_count": 3,
   "metadata": {
    "collapsed": true
   },
   "outputs": [],
   "source": [
    "categorical_columns = ['NAME_CONTRACT_TYPE',\n",
    "                       'CODE_GENDER',\n",
    "                       'FLAG_OWN_CAR',\n",
    "                       'FLAG_OWN_REALTY',\n",
    "                       'NAME_TYPE_SUITE',\n",
    "                       'NAME_INCOME_TYPE',\n",
    "                       'NAME_EDUCATION_TYPE',\n",
    "                       'NAME_FAMILY_STATUS',\n",
    "                       'NAME_HOUSING_TYPE',\n",
    "                       'OCCUPATION_TYPE',\n",
    "                       'WEEKDAY_APPR_PROCESS_START',\n",
    "                       'ORGANIZATION_TYPE',\n",
    "                       'FONDKAPREMONT_MODE',\n",
    "                       'HOUSETYPE_MODE',\n",
    "                       'WALLSMATERIAL_MODE',\n",
    "                       'EMERGENCYSTATE_MODE']"
   ]
  },
  {
   "cell_type": "code",
   "execution_count": 4,
   "metadata": {
    "collapsed": false
   },
   "outputs": [],
   "source": [
    "def replace_few_missing_with_default(df, max_ratio=5):\n",
    "\n",
    "    missing = (df.isnull().sum() / len(df)) * 100\n",
    "    missing = missing.drop(missing[missing == 0].index)\n",
    "    few_missing = missing.drop(missing[missing > max_ratio].index)\n",
    "\n",
    "    few_missing_columns = few_missing.index\n",
    "\n",
    "    for col in few_missing_columns:\n",
    "        df[col].fillna(df[col].value_counts().index[0], inplace = True)\n",
    "\n",
    "    return df"
   ]
  },
  {
   "cell_type": "code",
   "execution_count": 5,
   "metadata": {
    "collapsed": false
   },
   "outputs": [],
   "source": [
    "def replace_missing(df, categorical_columns):\n",
    "    \n",
    "    numeric_columns = list(df.select_dtypes(include=[np.number]).columns.values)\n",
    "    \n",
    "    df = replace_few_missing_with_default(df)\n",
    "    df[categorical_columns] = df[categorical_columns].fillna(\"UNKNOWN\") \n",
    "    \n",
    "    \"\"\"for col in categorical_columns:\n",
    "        if col in numeric_columns:\n",
    "            df[col] = df[col].fillna(-999) \n",
    "        else:\n",
    "            df[col] = df[col].fillna(\"UNKNOWN\") \"\"\"\n",
    "    \n",
    "    # Replace numeric values with mean\n",
    "    for col in numeric_columns:\n",
    "        if df[col].dtype == np.int:\n",
    "            df[col].fillna((df[col].median()), inplace = True) \n",
    "        else:\n",
    "            df[col].fillna((df[col].mean()), inplace = True)   \n",
    "            \n",
    "    return df"
   ]
  },
  {
   "cell_type": "code",
   "execution_count": 8,
   "metadata": {
    "collapsed": false
   },
   "outputs": [
    {
     "name": "stdout",
     "output_type": "stream",
     "text": [
      "Number of columns with missing data: 144\n",
      "Number of columns with missing data: 0\n"
     ]
    }
   ],
   "source": [
    "print(\"Number of columns with missing data: \" + str(len(all_data.columns[all_data.isnull().any()].tolist())))\n",
    "all_data = replace_missing(all_data, categorical_columns)\n",
    "print(\"Number of columns with missing data: \" + str(len(all_data.columns[all_data.isnull().any()].tolist())))"
   ]
  },
  {
   "cell_type": "code",
   "execution_count": 6,
   "metadata": {
    "collapsed": true
   },
   "outputs": [],
   "source": [
    "def process_categorical(df, categorical_columns):\n",
    "    \n",
    "    # Significance of categories for target, will later try more with this\n",
    "    #for col in categorical_columns:\n",
    "    #   df.groupby(col).mean()['TARGET'].sort_values(ascending=False)\n",
    "\n",
    "    df[categorical_columns] = df[categorical_columns].apply(preprocessing.LabelEncoder().fit_transform)\n",
    "    df[categorical_columns] = df[categorical_columns].astype(str)\n",
    "    df = pd.get_dummies(df)\n",
    "    \n",
    "    return df"
   ]
  },
  {
   "cell_type": "code",
   "execution_count": 10,
   "metadata": {
    "collapsed": false
   },
   "outputs": [
    {
     "data": {
      "text/html": [
       "<div>\n",
       "<style>\n",
       "    .dataframe thead tr:only-child th {\n",
       "        text-align: right;\n",
       "    }\n",
       "\n",
       "    .dataframe thead th {\n",
       "        text-align: left;\n",
       "    }\n",
       "\n",
       "    .dataframe tbody tr th {\n",
       "        vertical-align: top;\n",
       "    }\n",
       "</style>\n",
       "<table border=\"1\" class=\"dataframe\">\n",
       "  <thead>\n",
       "    <tr style=\"text-align: right;\">\n",
       "      <th></th>\n",
       "      <th>AMT_ANNUITY</th>\n",
       "      <th>AMT_ANNUITY_x</th>\n",
       "      <th>AMT_ANNUITY_y</th>\n",
       "      <th>AMT_APPLICATION</th>\n",
       "      <th>AMT_BALANCE</th>\n",
       "      <th>AMT_CREDIT_LIMIT_ACTUAL</th>\n",
       "      <th>AMT_CREDIT_MAX_OVERDUE</th>\n",
       "      <th>AMT_CREDIT_SUM</th>\n",
       "      <th>AMT_CREDIT_SUM_DEBT</th>\n",
       "      <th>AMT_CREDIT_SUM_LIMIT</th>\n",
       "      <th>...</th>\n",
       "      <th>WALLSMATERIAL_MODE_5</th>\n",
       "      <th>WALLSMATERIAL_MODE_6</th>\n",
       "      <th>WALLSMATERIAL_MODE_7</th>\n",
       "      <th>WEEKDAY_APPR_PROCESS_START_0</th>\n",
       "      <th>WEEKDAY_APPR_PROCESS_START_1</th>\n",
       "      <th>WEEKDAY_APPR_PROCESS_START_2</th>\n",
       "      <th>WEEKDAY_APPR_PROCESS_START_3</th>\n",
       "      <th>WEEKDAY_APPR_PROCESS_START_4</th>\n",
       "      <th>WEEKDAY_APPR_PROCESS_START_5</th>\n",
       "      <th>WEEKDAY_APPR_PROCESS_START_6</th>\n",
       "    </tr>\n",
       "  </thead>\n",
       "  <tbody>\n",
       "    <tr>\n",
       "      <th>0</th>\n",
       "      <td>9251.775</td>\n",
       "      <td>24700.5</td>\n",
       "      <td>0.0</td>\n",
       "      <td>179055.0</td>\n",
       "      <td>69973.192455</td>\n",
       "      <td>207320.669739</td>\n",
       "      <td>1681.029</td>\n",
       "      <td>108131.945625</td>\n",
       "      <td>49156.2</td>\n",
       "      <td>7997.14125</td>\n",
       "      <td>...</td>\n",
       "      <td>1</td>\n",
       "      <td>0</td>\n",
       "      <td>0</td>\n",
       "      <td>0</td>\n",
       "      <td>0</td>\n",
       "      <td>0</td>\n",
       "      <td>0</td>\n",
       "      <td>0</td>\n",
       "      <td>0</td>\n",
       "      <td>1</td>\n",
       "    </tr>\n",
       "  </tbody>\n",
       "</table>\n",
       "<p>1 rows × 327 columns</p>\n",
       "</div>"
      ],
      "text/plain": [
       "   AMT_ANNUITY  AMT_ANNUITY_x  AMT_ANNUITY_y  AMT_APPLICATION   AMT_BALANCE  \\\n",
       "0     9251.775        24700.5            0.0         179055.0  69973.192455   \n",
       "\n",
       "   AMT_CREDIT_LIMIT_ACTUAL  AMT_CREDIT_MAX_OVERDUE  AMT_CREDIT_SUM  \\\n",
       "0            207320.669739                1681.029   108131.945625   \n",
       "\n",
       "   AMT_CREDIT_SUM_DEBT  AMT_CREDIT_SUM_LIMIT              ...               \\\n",
       "0              49156.2            7997.14125              ...                \n",
       "\n",
       "   WALLSMATERIAL_MODE_5  WALLSMATERIAL_MODE_6  WALLSMATERIAL_MODE_7  \\\n",
       "0                     1                     0                     0   \n",
       "\n",
       "   WEEKDAY_APPR_PROCESS_START_0  WEEKDAY_APPR_PROCESS_START_1  \\\n",
       "0                             0                             0   \n",
       "\n",
       "   WEEKDAY_APPR_PROCESS_START_2  WEEKDAY_APPR_PROCESS_START_3  \\\n",
       "0                             0                             0   \n",
       "\n",
       "   WEEKDAY_APPR_PROCESS_START_4  WEEKDAY_APPR_PROCESS_START_5  \\\n",
       "0                             0                             0   \n",
       "\n",
       "   WEEKDAY_APPR_PROCESS_START_6  \n",
       "0                             1  \n",
       "\n",
       "[1 rows x 327 columns]"
      ]
     },
     "execution_count": 10,
     "metadata": {},
     "output_type": "execute_result"
    }
   ],
   "source": [
    "df_all = process_categorical(all_data, categorical_columns)\n",
    "df_all.head(1)"
   ]
  },
  {
   "cell_type": "code",
   "execution_count": 7,
   "metadata": {
    "collapsed": false
   },
   "outputs": [],
   "source": [
    "def rescale_data(df, mode='norm'):\n",
    "    scalable_columns = list(df.select_dtypes(include=[np.float]))\n",
    "    \n",
    "    if mode=='norm':\n",
    "        df[scalable_columns] = (df[scalable_columns] - np.min(df[scalable_columns])) \\\n",
    "                                / (np.max(df[scalable_columns]) - np.min(df[scalable_columns]))\n",
    "    elif mode=='stand':\n",
    "        df[scalable_columns] = (df[scalable_columns] - np.mean(df[scalable_columns])) \\\n",
    "                                / np.std(df[scalable_columns])\n",
    "    return df"
   ]
  },
  {
   "cell_type": "code",
   "execution_count": 12,
   "metadata": {
    "collapsed": false
   },
   "outputs": [
    {
     "data": {
      "text/html": [
       "<div>\n",
       "<style>\n",
       "    .dataframe thead tr:only-child th {\n",
       "        text-align: right;\n",
       "    }\n",
       "\n",
       "    .dataframe thead th {\n",
       "        text-align: left;\n",
       "    }\n",
       "\n",
       "    .dataframe tbody tr th {\n",
       "        vertical-align: top;\n",
       "    }\n",
       "</style>\n",
       "<table border=\"1\" class=\"dataframe\">\n",
       "  <thead>\n",
       "    <tr style=\"text-align: right;\">\n",
       "      <th></th>\n",
       "      <th>AMT_ANNUITY</th>\n",
       "      <th>AMT_ANNUITY_x</th>\n",
       "      <th>AMT_ANNUITY_y</th>\n",
       "      <th>AMT_APPLICATION</th>\n",
       "      <th>AMT_BALANCE</th>\n",
       "      <th>AMT_CREDIT_LIMIT_ACTUAL</th>\n",
       "      <th>AMT_CREDIT_MAX_OVERDUE</th>\n",
       "      <th>AMT_CREDIT_SUM</th>\n",
       "      <th>AMT_CREDIT_SUM_DEBT</th>\n",
       "      <th>AMT_CREDIT_SUM_LIMIT</th>\n",
       "      <th>...</th>\n",
       "      <th>SK_DPD_DEF_y</th>\n",
       "      <th>SK_DPD_x</th>\n",
       "      <th>SK_DPD_y</th>\n",
       "      <th>TOTALAREA_MODE</th>\n",
       "      <th>YEARS_BEGINEXPLUATATION_AVG</th>\n",
       "      <th>YEARS_BEGINEXPLUATATION_MEDI</th>\n",
       "      <th>YEARS_BEGINEXPLUATATION_MODE</th>\n",
       "      <th>YEARS_BUILD_AVG</th>\n",
       "      <th>YEARS_BUILD_MEDI</th>\n",
       "      <th>YEARS_BUILD_MODE</th>\n",
       "    </tr>\n",
       "  </thead>\n",
       "  <tbody>\n",
       "    <tr>\n",
       "      <th>0</th>\n",
       "      <td>0.030796</td>\n",
       "      <td>0.090032</td>\n",
       "      <td>0.0</td>\n",
       "      <td>0.044211</td>\n",
       "      <td>0.078255</td>\n",
       "      <td>0.153571</td>\n",
       "      <td>0.000014</td>\n",
       "      <td>0.000546</td>\n",
       "      <td>0.02144</td>\n",
       "      <td>0.02303</td>\n",
       "      <td>...</td>\n",
       "      <td>0.000093</td>\n",
       "      <td>0.0</td>\n",
       "      <td>0.002511</td>\n",
       "      <td>0.0149</td>\n",
       "      <td>0.9722</td>\n",
       "      <td>0.9722</td>\n",
       "      <td>0.9722</td>\n",
       "      <td>0.6192</td>\n",
       "      <td>0.6243</td>\n",
       "      <td>0.6341</td>\n",
       "    </tr>\n",
       "  </tbody>\n",
       "</table>\n",
       "<p>1 rows × 142 columns</p>\n",
       "</div>"
      ],
      "text/plain": [
       "   AMT_ANNUITY  AMT_ANNUITY_x  AMT_ANNUITY_y  AMT_APPLICATION  AMT_BALANCE  \\\n",
       "0     0.030796       0.090032            0.0         0.044211     0.078255   \n",
       "\n",
       "   AMT_CREDIT_LIMIT_ACTUAL  AMT_CREDIT_MAX_OVERDUE  AMT_CREDIT_SUM  \\\n",
       "0                 0.153571                0.000014        0.000546   \n",
       "\n",
       "   AMT_CREDIT_SUM_DEBT  AMT_CREDIT_SUM_LIMIT        ...         SK_DPD_DEF_y  \\\n",
       "0              0.02144               0.02303        ...             0.000093   \n",
       "\n",
       "   SK_DPD_x  SK_DPD_y  TOTALAREA_MODE  YEARS_BEGINEXPLUATATION_AVG  \\\n",
       "0       0.0  0.002511          0.0149                       0.9722   \n",
       "\n",
       "   YEARS_BEGINEXPLUATATION_MEDI  YEARS_BEGINEXPLUATATION_MODE  \\\n",
       "0                        0.9722                        0.9722   \n",
       "\n",
       "   YEARS_BUILD_AVG  YEARS_BUILD_MEDI  YEARS_BUILD_MODE  \n",
       "0           0.6192            0.6243            0.6341  \n",
       "\n",
       "[1 rows x 142 columns]"
      ]
     },
     "execution_count": 12,
     "metadata": {},
     "output_type": "execute_result"
    }
   ],
   "source": [
    "df_all = rescale_data(df_all)\n",
    "df_all.select_dtypes(include=[np.float]).head(1)"
   ]
  },
  {
   "cell_type": "code",
   "execution_count": 8,
   "metadata": {
    "collapsed": true
   },
   "outputs": [],
   "source": [
    "def detect_outliers(df, n, features):\n",
    "    \n",
    "    outlier_indices = []\n",
    "    \n",
    "    # iterate over features(columns)\n",
    "    for col in features:\n",
    "        # 1st quartile (25%)\n",
    "        Q1 = np.percentile(df[col], 25)\n",
    "        # 3rd quartile (75%)\n",
    "        Q3 = np.percentile(df[col], 75)\n",
    "        # Interquartile range (IQR)\n",
    "        IQR = Q3 - Q1\n",
    "        \n",
    "        # outlier step\n",
    "        outlier_step = 1.5 * IQR\n",
    "        \n",
    "        # Determine a list of indices of outliers for feature col\n",
    "        outlier_list_col = df[(df[col] < Q1 - outlier_step) | (df[col] > Q3 + outlier_step )].index\n",
    "        \n",
    "        # append the found outlier indices for col to the list of outlier indices \n",
    "        outlier_indices.extend(outlier_list_col)\n",
    "        \n",
    "    # select observations containing more than 2 outliers\n",
    "    outlier_indices = Counter(outlier_indices)        \n",
    "    multiple_outliers = list( k for k, v in outlier_indices.items() if v > n )\n",
    "    \n",
    "    return multiple_outliers"
   ]
  },
  {
   "cell_type": "code",
   "execution_count": 9,
   "metadata": {
    "collapsed": true
   },
   "outputs": [],
   "source": [
    "def preprocess_data(df, categorical_columns):\n",
    "    \n",
    "    df = replace_missing(df, categorical_columns)\n",
    "    df = process_categorical(df, categorical_columns)\n",
    "    df = rescale_data(df)\n",
    "    df = df.drop('SK_ID_CURR', axis=1)\n",
    "    \n",
    "    return df"
   ]
  },
  {
   "cell_type": "code",
   "execution_count": 10,
   "metadata": {
    "collapsed": false
   },
   "outputs": [
    {
     "name": "stdout",
     "output_type": "stream",
     "text": [
      "Training set shape before removing outliers: (307511, 199)\n"
     ]
    },
    {
     "name": "stderr",
     "output_type": "stream",
     "text": [
      "C:\\Users\\Administrator\\AppData\\Local\\conda\\conda\\envs\\tensorflow\\lib\\site-packages\\numpy\\lib\\function_base.py:4291: RuntimeWarning: Invalid value encountered in percentile\n",
      "  interpolation=interpolation)\n"
     ]
    },
    {
     "name": "stdout",
     "output_type": "stream",
     "text": [
      "Number of outliers dropped: 346\n",
      "Training set shape before removing outliers: (307165, 199)\n",
      "Number of outliers dropped: 0\n",
      "Training set shape: (307165, 327)\n",
      "Test set shape: (48744, 326)\n",
      "Number of columns with missing data: 0\n"
     ]
    },
    {
     "data": {
      "text/html": [
       "<div>\n",
       "<style>\n",
       "    .dataframe thead tr:only-child th {\n",
       "        text-align: right;\n",
       "    }\n",
       "\n",
       "    .dataframe thead th {\n",
       "        text-align: left;\n",
       "    }\n",
       "\n",
       "    .dataframe tbody tr th {\n",
       "        vertical-align: top;\n",
       "    }\n",
       "</style>\n",
       "<table border=\"1\" class=\"dataframe\">\n",
       "  <thead>\n",
       "    <tr style=\"text-align: right;\">\n",
       "      <th></th>\n",
       "      <th>CNT_CHILDREN</th>\n",
       "      <th>AMT_INCOME_TOTAL</th>\n",
       "      <th>AMT_CREDIT_x</th>\n",
       "      <th>AMT_ANNUITY_x</th>\n",
       "      <th>AMT_GOODS_PRICE_x</th>\n",
       "      <th>REGION_POPULATION_RELATIVE</th>\n",
       "      <th>DAYS_BIRTH</th>\n",
       "      <th>DAYS_EMPLOYED</th>\n",
       "      <th>DAYS_REGISTRATION</th>\n",
       "      <th>DAYS_ID_PUBLISH</th>\n",
       "      <th>...</th>\n",
       "      <th>WALLSMATERIAL_MODE_1</th>\n",
       "      <th>WALLSMATERIAL_MODE_2</th>\n",
       "      <th>WALLSMATERIAL_MODE_3</th>\n",
       "      <th>WALLSMATERIAL_MODE_4</th>\n",
       "      <th>WALLSMATERIAL_MODE_5</th>\n",
       "      <th>WALLSMATERIAL_MODE_6</th>\n",
       "      <th>WALLSMATERIAL_MODE_7</th>\n",
       "      <th>EMERGENCYSTATE_MODE_0</th>\n",
       "      <th>EMERGENCYSTATE_MODE_1</th>\n",
       "      <th>EMERGENCYSTATE_MODE_2</th>\n",
       "    </tr>\n",
       "  </thead>\n",
       "  <tbody>\n",
       "    <tr>\n",
       "      <th>0</th>\n",
       "      <td>0</td>\n",
       "      <td>0.001512</td>\n",
       "      <td>0.090287</td>\n",
       "      <td>0.090032</td>\n",
       "      <td>0.077441</td>\n",
       "      <td>0.256702</td>\n",
       "      <td>-9461</td>\n",
       "      <td>-637</td>\n",
       "      <td>0.85214</td>\n",
       "      <td>-2120</td>\n",
       "      <td>...</td>\n",
       "      <td>0</td>\n",
       "      <td>0</td>\n",
       "      <td>0</td>\n",
       "      <td>0</td>\n",
       "      <td>1</td>\n",
       "      <td>0</td>\n",
       "      <td>0</td>\n",
       "      <td>1</td>\n",
       "      <td>0</td>\n",
       "      <td>0</td>\n",
       "    </tr>\n",
       "  </tbody>\n",
       "</table>\n",
       "<p>1 rows × 326 columns</p>\n",
       "</div>"
      ],
      "text/plain": [
       "   CNT_CHILDREN  AMT_INCOME_TOTAL  AMT_CREDIT_x  AMT_ANNUITY_x  \\\n",
       "0             0          0.001512      0.090287       0.090032   \n",
       "\n",
       "   AMT_GOODS_PRICE_x  REGION_POPULATION_RELATIVE  DAYS_BIRTH  DAYS_EMPLOYED  \\\n",
       "0           0.077441                    0.256702       -9461           -637   \n",
       "\n",
       "   DAYS_REGISTRATION  DAYS_ID_PUBLISH          ...            \\\n",
       "0            0.85214            -2120          ...             \n",
       "\n",
       "   WALLSMATERIAL_MODE_1  WALLSMATERIAL_MODE_2  WALLSMATERIAL_MODE_3  \\\n",
       "0                     0                     0                     0   \n",
       "\n",
       "   WALLSMATERIAL_MODE_4  WALLSMATERIAL_MODE_5  WALLSMATERIAL_MODE_6  \\\n",
       "0                     0                     1                     0   \n",
       "\n",
       "   WALLSMATERIAL_MODE_7  EMERGENCYSTATE_MODE_0  EMERGENCYSTATE_MODE_1  \\\n",
       "0                     0                      1                      0   \n",
       "\n",
       "   EMERGENCYSTATE_MODE_2  \n",
       "0                      0  \n",
       "\n",
       "[1 rows x 326 columns]"
      ]
     },
     "execution_count": 10,
     "metadata": {},
     "output_type": "execute_result"
    }
   ],
   "source": [
    "train = pd.read_csv('./data/train_merged.csv', sep=',', header=0)\n",
    "test = pd.read_csv('./data/test_merged.csv', sep=',', header=0)\n",
    "\n",
    "print('Training set shape before removing outliers: ' + str(train.shape))\n",
    "float_columns = list(train.select_dtypes(include=[np.float]).columns.values)\n",
    "outliers = detect_outliers(train, 2, float_columns)\n",
    "train = train.drop(outliers, axis='rows').reset_index(drop=True)\n",
    "print('Number of outliers dropped: ' + str(len(outliers)))\n",
    "\n",
    "m_train = train.shape[0]\n",
    "m_test = test.shape[0]\n",
    "y = train['TARGET']\n",
    "train.drop(['TARGET'], axis=1, inplace=True)\n",
    "\n",
    "ids = test['SK_ID_CURR']\n",
    "\n",
    "all_data = pd.concat((train, test)).reset_index(drop=True)\n",
    "all_data = preprocess_data(all_data, categorical_columns)\n",
    "\n",
    "train = all_data.loc[0:m_train-1].copy()\n",
    "test = all_data.loc[m_train:].copy()\n",
    "\n",
    "train['TARGET'] = y\n",
    "\n",
    "print('Training set shape: ' + str(train.shape))\n",
    "print('Test set shape: ' + str(test.shape))\n",
    "\n",
    "print(\"Number of columns with missing data: \" + str(len(all_data.columns[all_data.isnull().any()].tolist())))\n",
    "\n",
    "all_data.head(1)"
   ]
  },
  {
   "cell_type": "code",
   "execution_count": 36,
   "metadata": {
    "collapsed": false
   },
   "outputs": [],
   "source": [
    "def split_data(df):\n",
    "    \n",
    "    df_train = df.sample(frac = 0.9, random_state = 42)\n",
    "    df_val = df.drop(df_train.index)  \n",
    "    \n",
    "    X_train = df_train.drop(['TARGET'], axis=1).values\n",
    "    y_train = df_train['TARGET'].values\n",
    "    \n",
    "    X_val = df_val.drop(['TARGET'], axis=1).values\n",
    "    y_val = df_val['TARGET'].values\n",
    "    \n",
    "    return X_train, y_train, X_val, y_val"
   ]
  },
  {
   "cell_type": "code",
   "execution_count": 37,
   "metadata": {
    "collapsed": false
   },
   "outputs": [],
   "source": [
    "X_train, y_train, X_val, y_val = split_data(train)"
   ]
  },
  {
   "cell_type": "code",
   "execution_count": 14,
   "metadata": {
    "collapsed": false
   },
   "outputs": [],
   "source": [
    "def train_lgbm_clf(clf, X_train, y_train, X_val, y_val):\n",
    "    \n",
    "    clf.fit(X_train, y_train, \n",
    "            eval_set= [(X_val, y_val)],\n",
    "            eval_metric='auc', \n",
    "            verbose=250, \n",
    "            early_stopping_rounds=150\n",
    "           )\n",
    "    \n",
    "    y_act, y_pred = y_val, clf.predict(X_val)\n",
    "    scores = cross_val_score(clf, X_val, y_val, cv=10, scoring='accuracy')\n",
    "    print(\"Validation Accuracy: %0.2f (+/- %0.2f)\" % (scores.mean(), scores.std()))\n",
    "    print()\n",
    "    print(classification_report(y_act, y_pred))\n",
    "    \n",
    "    return clf"
   ]
  },
  {
   "cell_type": "code",
   "execution_count": 38,
   "metadata": {
    "collapsed": false
   },
   "outputs": [
    {
     "name": "stdout",
     "output_type": "stream",
     "text": [
      "Training until validation scores don't improve for 150 rounds.\n",
      "[250]\tvalid_0's auc: 0.745442\n",
      "[500]\tvalid_0's auc: 0.7515\n",
      "[750]\tvalid_0's auc: 0.760326\n",
      "[1000]\tvalid_0's auc: 0.767939\n",
      "[1250]\tvalid_0's auc: 0.772592\n",
      "[1500]\tvalid_0's auc: 0.775899\n",
      "[1750]\tvalid_0's auc: 0.777922\n",
      "[2000]\tvalid_0's auc: 0.779257\n",
      "[2250]\tvalid_0's auc: 0.780346\n",
      "[2500]\tvalid_0's auc: 0.781217\n",
      "[2750]\tvalid_0's auc: 0.782105\n",
      "[3000]\tvalid_0's auc: 0.782808\n",
      "[3250]\tvalid_0's auc: 0.783431\n",
      "[3500]\tvalid_0's auc: 0.783913\n",
      "[3750]\tvalid_0's auc: 0.784192\n",
      "[4000]\tvalid_0's auc: 0.784483\n",
      "[4250]\tvalid_0's auc: 0.784867\n",
      "[4500]\tvalid_0's auc: 0.785065\n",
      "[4750]\tvalid_0's auc: 0.785212\n",
      "[5000]\tvalid_0's auc: 0.785333\n",
      "[5250]\tvalid_0's auc: 0.78553\n",
      "[5500]\tvalid_0's auc: 0.785667\n",
      "[5750]\tvalid_0's auc: 0.785879\n",
      "[6000]\tvalid_0's auc: 0.786037\n",
      "[6250]\tvalid_0's auc: 0.786064\n",
      "Early stopping, best iteration is:\n",
      "[6134]\tvalid_0's auc: 0.786097\n",
      "Validation Accuracy: 0.92 (+/- 0.00)\n",
      "\n",
      "             precision    recall  f1-score   support\n",
      "\n",
      "          0       0.92      1.00      0.96     28289\n",
      "          1       0.61      0.05      0.09      2428\n",
      "\n",
      "avg / total       0.90      0.92      0.89     30717\n",
      "\n"
     ]
    }
   ],
   "source": [
    "lgbm_clf = LGBMClassifier(n_estimators=20000,\n",
    "                          learning_rate=0.005,\n",
    "                          num_leaves=70,\n",
    "                          colsample_bytree=.8,\n",
    "                          subsample=.9,\n",
    "                          max_depth=7,\n",
    "                          reg_alpha=.1,\n",
    "                          reg_lambda=.1,\n",
    "                          min_split_gain=.01,\n",
    "                          min_child_weight=2)\n",
    "\n",
    "lgbm_clf = train_lgbm_clf(lgbm_clf, X_train, y_train, X_val, y_val)"
   ]
  },
  {
   "cell_type": "code",
   "execution_count": 42,
   "metadata": {
    "collapsed": true
   },
   "outputs": [],
   "source": [
    "def predict(df, ids, clf, export_path):\n",
    "    \n",
    "    # Make predictions\n",
    "    X = df.values\n",
    "    y = clf.predict_proba(X, num_iteration=clf.best_iteration_)[:, 1]\n",
    "    \n",
    "    # Combine ids and predictions\n",
    "    y = np.column_stack((ids, y))\n",
    "    \n",
    "    # Restore pandas df\n",
    "    pred = pd.DataFrame(y)\n",
    "    pred.columns = [\"SK_ID_CURR\", \"TARGET\"]\n",
    "    \n",
    "    pred[\"SK_ID_CURR\"] = pred[\"SK_ID_CURR\"].astype('int64')\n",
    "    \n",
    "    # Export\n",
    "    pred.to_csv(export_path, sep=',', index=False)\n",
    "    \n",
    "    return pred"
   ]
  },
  {
   "cell_type": "code",
   "execution_count": 43,
   "metadata": {
    "collapsed": false
   },
   "outputs": [],
   "source": [
    "#df_test = pd.read_csv('./data/application_test.csv', sep=',', header=0)\n",
    "#df_pred = predict(df_test, rf_clf, categorical_columns, './predictions/rf_pred.csv')\n",
    "pred = predict(test, ids, lgbm_clf, './predictions/lgbm_pred.csv')"
   ]
  },
  {
   "cell_type": "code",
   "execution_count": 42,
   "metadata": {
    "collapsed": false
   },
   "outputs": [
    {
     "name": "stdout",
     "output_type": "stream",
     "text": [
      "SK_ID_CURR    1.354092e+10\n",
      "TARGET        3.623379e+03\n",
      "dtype: float64\n"
     ]
    }
   ],
   "source": [
    "print(pred.sum())"
   ]
  },
  {
   "cell_type": "code",
   "execution_count": 44,
   "metadata": {
    "collapsed": false
   },
   "outputs": [
    {
     "name": "stdout",
     "output_type": "stream",
     "text": [
      "SK_ID_CURR    1.354092e+10\n",
      "TARGET        3.579483e+03\n",
      "dtype: float64\n"
     ]
    }
   ],
   "source": [
    "print(pred.sum())"
   ]
  },
  {
   "cell_type": "code",
   "execution_count": 43,
   "metadata": {
    "collapsed": false
   },
   "outputs": [
    {
     "data": {
      "text/html": [
       "<div>\n",
       "<style>\n",
       "    .dataframe thead tr:only-child th {\n",
       "        text-align: right;\n",
       "    }\n",
       "\n",
       "    .dataframe thead th {\n",
       "        text-align: left;\n",
       "    }\n",
       "\n",
       "    .dataframe tbody tr th {\n",
       "        vertical-align: top;\n",
       "    }\n",
       "</style>\n",
       "<table border=\"1\" class=\"dataframe\">\n",
       "  <thead>\n",
       "    <tr style=\"text-align: right;\">\n",
       "      <th></th>\n",
       "      <th>SK_ID_CURR</th>\n",
       "      <th>TARGET</th>\n",
       "    </tr>\n",
       "  </thead>\n",
       "  <tbody>\n",
       "    <tr>\n",
       "      <th>0</th>\n",
       "      <td>100001</td>\n",
       "      <td>0.036058</td>\n",
       "    </tr>\n",
       "    <tr>\n",
       "      <th>1</th>\n",
       "      <td>100005</td>\n",
       "      <td>0.130084</td>\n",
       "    </tr>\n",
       "    <tr>\n",
       "      <th>2</th>\n",
       "      <td>100013</td>\n",
       "      <td>0.035413</td>\n",
       "    </tr>\n",
       "  </tbody>\n",
       "</table>\n",
       "</div>"
      ],
      "text/plain": [
       "   SK_ID_CURR    TARGET\n",
       "0      100001  0.036058\n",
       "1      100005  0.130084\n",
       "2      100013  0.035413"
      ]
     },
     "execution_count": 43,
     "metadata": {},
     "output_type": "execute_result"
    }
   ],
   "source": [
    "pred.head(3)"
   ]
  },
  {
   "cell_type": "code",
   "execution_count": 45,
   "metadata": {
    "collapsed": false
   },
   "outputs": [
    {
     "data": {
      "text/html": [
       "<div>\n",
       "<style>\n",
       "    .dataframe thead tr:only-child th {\n",
       "        text-align: right;\n",
       "    }\n",
       "\n",
       "    .dataframe thead th {\n",
       "        text-align: left;\n",
       "    }\n",
       "\n",
       "    .dataframe tbody tr th {\n",
       "        vertical-align: top;\n",
       "    }\n",
       "</style>\n",
       "<table border=\"1\" class=\"dataframe\">\n",
       "  <thead>\n",
       "    <tr style=\"text-align: right;\">\n",
       "      <th></th>\n",
       "      <th>SK_ID_CURR</th>\n",
       "      <th>TARGET</th>\n",
       "    </tr>\n",
       "  </thead>\n",
       "  <tbody>\n",
       "    <tr>\n",
       "      <th>0</th>\n",
       "      <td>100001</td>\n",
       "      <td>0.032467</td>\n",
       "    </tr>\n",
       "    <tr>\n",
       "      <th>1</th>\n",
       "      <td>100005</td>\n",
       "      <td>0.130365</td>\n",
       "    </tr>\n",
       "    <tr>\n",
       "      <th>2</th>\n",
       "      <td>100013</td>\n",
       "      <td>0.037865</td>\n",
       "    </tr>\n",
       "  </tbody>\n",
       "</table>\n",
       "</div>"
      ],
      "text/plain": [
       "   SK_ID_CURR    TARGET\n",
       "0      100001  0.032467\n",
       "1      100005  0.130365\n",
       "2      100013  0.037865"
      ]
     },
     "execution_count": 45,
     "metadata": {},
     "output_type": "execute_result"
    }
   ],
   "source": [
    "pred.head(3)"
   ]
  },
  {
   "cell_type": "code",
   "execution_count": null,
   "metadata": {
    "collapsed": true
   },
   "outputs": [],
   "source": []
  }
 ],
 "metadata": {
  "kernelspec": {
   "display_name": "tensorflow",
   "language": "python",
   "name": "tensorflow"
  },
  "language_info": {
   "codemirror_mode": {
    "name": "ipython",
    "version": 3
   },
   "file_extension": ".py",
   "mimetype": "text/x-python",
   "name": "python",
   "nbconvert_exporter": "python",
   "pygments_lexer": "ipython3",
   "version": "3.5.3"
  }
 },
 "nbformat": 4,
 "nbformat_minor": 2
}
