{
 "cells": [
  {
   "cell_type": "code",
   "execution_count": 53,
   "metadata": {
    "collapsed": false
   },
   "outputs": [],
   "source": [
    "import math\n",
    "import numpy as np\n",
    "import matplotlib.pyplot as plt\n",
    "import tensorflow as tf\n",
    "from tensorflow.python.framework import ops\n",
    "import pandas as pd\n",
    "from sklearn import datasets, svm, tree, preprocessing, metrics\n",
    "import sklearn.ensemble as ske"
   ]
  },
  {
   "cell_type": "code",
   "execution_count": 22,
   "metadata": {
    "collapsed": false
   },
   "outputs": [],
   "source": [
    "df = pd.read_csv('C:/GitHub/kaggle/titanic/data/train.csv', sep=',', header=0)\n",
    "df_pred = pd.read_csv('C:/GitHub/kaggle/titanic/data/test.csv', sep=',', header=0)"
   ]
  },
  {
   "cell_type": "code",
   "execution_count": 23,
   "metadata": {
    "collapsed": false
   },
   "outputs": [],
   "source": [
    "def preprocess_dataframe(df, print_info=False):\n",
    "    \"\"\"\n",
    "    Description:\n",
    "    \n",
    "    Performs preprocessing on the titanic data\n",
    "    \n",
    "    PassangerId - Id\n",
    "    Survived    - Survived  (0 = No; 1 = Yes)\n",
    "    Pclass      - Passenger Class  (1 = 1st; 2 = 2nd; 3 = 3rd)\n",
    "    Name        - Name\n",
    "    Sex         - Sex\n",
    "    Age         - Age\n",
    "    Sibsp       - Number of Siblings/Spouses Aboard\n",
    "    Parch       - Number of Parents/Children Aboard\n",
    "    Ticket      - Ticket Number\n",
    "    Fare        - Passenger Fare (British pound)\n",
    "    Cabin       - Cabin code\n",
    "    Embarked    - Port of Embarkation (C = Cherbourg; Q = Queenstown; S = Southampton)\n",
    "    \n",
    "    Arguments:\n",
    "    df -- Dataset, Pandas DataFrame\n",
    "    \n",
    "    Returns:\n",
    "    df -- Dataset, Pandas DataFrame\n",
    "    \"\"\"\n",
    "\n",
    "    # Drop column with data deem not relevant for learning\n",
    "    # Name     - Gender already has its' own column. Only thing that might be interesting here is the title\n",
    "    # Ticket   - Ticket does not really say much, price is already included which says the most\n",
    "    # Cabin    - Data is bad and it is hard to translate the numbers into something useful without more info\n",
    "    df = df.drop(['PassengerId', 'Name', 'Ticket', 'Cabin'], axis=1)\n",
    "\n",
    "    # Encode sex into binary (0 = male, 1 = female)\n",
    "    df['Sex'] = df['Sex'].map({'female': 1, 'male': 0})\n",
    "\n",
    "    # Split classes with one hot encoding\n",
    "    # Pclass   - splits into (1 = Pclass_1, 2 = Pclass_2, 3 = Pclass_3)\n",
    "    # Embarked - splits into (C = Embarked_C, Q = Embarked_Q, S = Embarked_S)\n",
    "    survival_by_plcass = df.groupby('Pclass').mean()['Survived']\n",
    "    survival_by_embark = df.groupby('Embarked').mean()['Survived']\n",
    "    df = pd.get_dummies( df, columns = ['Pclass', 'Embarked'])\n",
    "\n",
    "    # Age has missing values which is replaced with average\n",
    "    # Might also consider dividing age into classes of age brackets\n",
    "    df['Age'].fillna((df['Age'].mean()), inplace = True)\n",
    "    \n",
    "    # Normalize the data\n",
    "    norm_vals = ['Age', 'SibSp', 'Parch', 'Fare']\n",
    "    df[norm_vals]=(df[norm_vals]-df[norm_vals].min())/(df[norm_vals].max()-df[norm_vals].min())\n",
    "    \n",
    "    if print_info:\n",
    "        print('--------------------------------------------------------------------------------------')\n",
    "        print('SURVIVAL RATE')\n",
    "        print('--------------------------------------------------------------------------------------')\n",
    "        print('Overall survival rate: ' + str(df['Survived'].mean()))\n",
    "        print()\n",
    "        print(survival_by_plcass)\n",
    "        print()\n",
    "        print(survival_by_embark)\n",
    "        print('--------------------------------------------------------------------------------------')\n",
    "        print('DATA INFO')\n",
    "        print('--------------------------------------------------------------------------------------')\n",
    "        print(df.info())\n",
    "        print('--------------------------------------------------------------------------------------')\n",
    "        print('MISSING VALUES')\n",
    "        print('--------------------------------------------------------------------------------------')\n",
    "        print(df.isnull().sum())\n",
    "        print('--------------------------------------------------------------------------------------')\n",
    "        print('CORRELATIONS')\n",
    "        print('--------------------------------------------------------------------------------------')\n",
    "        print(df.corr())\n",
    "        print('--------------------------------------------------------------------------------------')\n",
    "\n",
    "    return df"
   ]
  },
  {
   "cell_type": "code",
   "execution_count": 24,
   "metadata": {
    "collapsed": false
   },
   "outputs": [],
   "source": [
    "def split_data(df):\n",
    "    \"\"\"\n",
    "    Description:\n",
    "    Splits the data into test/training set for simple validation\n",
    "\n",
    "    Arguments:\n",
    "    df -- Dataset, pandas dataframe\n",
    "        \n",
    "    Returns:\n",
    "    train -- Training samples, pandas dataframe\n",
    "    test -- Test samples, pandas dataframe\n",
    "    \"\"\"\n",
    "\n",
    "    df_train = df.sample(frac = 0.8, random_state = 42)\n",
    "    df_test = df.drop(df_train.index)  \n",
    "    \n",
    "    X_train = df_train.drop(['Survived'], axis=1).values\n",
    "    y_train = df_train['Survived'].values\n",
    "    \n",
    "    X_test = df_test.drop(['Survived'], axis=1).values\n",
    "    y_test = df_test['Survived'].values\n",
    "    \n",
    "    return X_train, y_train, X_test, y_test"
   ]
  },
  {
   "cell_type": "code",
   "execution_count": 25,
   "metadata": {
    "collapsed": false
   },
   "outputs": [
    {
     "name": "stdout",
     "output_type": "stream",
     "text": [
      "X_train shape: (713, 11)\n",
      "y_train shape: (713,)\n",
      "X_test shape: (178, 11)\n",
      "y_test shape: (178,)\n"
     ]
    }
   ],
   "source": [
    "df_processed = preprocess_dataframe(df, False)\n",
    "\n",
    "X_train, y_train, X_test, y_test = split_data(df_processed)\n",
    "\n",
    "print (\"X_train shape: \" + str(X_train.shape))\n",
    "print (\"y_train shape: \" + str(y_train.shape))\n",
    "print (\"X_test shape: \" + str(X_test.shape))\n",
    "print (\"y_test shape: \" + str(y_test.shape))"
   ]
  },
  {
   "cell_type": "code",
   "execution_count": 45,
   "metadata": {
    "collapsed": false
   },
   "outputs": [],
   "source": [
    "def trainDecisionTreeClassifier(X_train, y_train, X_test, y_test):\n",
    "    \"\"\"\n",
    "    Description:\n",
    "    Builds a decision tree classifier and scores it on the test set\n",
    "\n",
    "    Arguments:\n",
    "    X_train -- Training features,numpy matrix (m, 11)\n",
    "    y_train -- Training features,numpy matrix (m, )\n",
    "    X_test -- Test features,numpy matrix (m, 11)\n",
    "    y_test -- Test features,numpy matrix (m, )\n",
    "        \n",
    "    Returns:\n",
    "    dt_clf -- Classifier, sklearn DecisionTreeClassifier\n",
    "    \"\"\"\n",
    "    dt_clf = tree.DecisionTreeClassifier(max_depth=10)\n",
    "    dt_clf.fit (X_train, y_train)\n",
    "    print(dt_clf.score (X_test, y_test))\n",
    "    \n",
    "    return dt_clf"
   ]
  },
  {
   "cell_type": "code",
   "execution_count": 48,
   "metadata": {
    "collapsed": false
   },
   "outputs": [
    {
     "name": "stdout",
     "output_type": "stream",
     "text": [
      "0.8089887640449438\n"
     ]
    }
   ],
   "source": [
    "dt_clf = trainDecisionTreeClassifier(X_train, y_train, X_test, y_test)"
   ]
  },
  {
   "cell_type": "code",
   "execution_count": 54,
   "metadata": {
    "collapsed": true
   },
   "outputs": [],
   "source": [
    "def randomForestClassifier(X_train, y_train, X_test, y_test):\n",
    "    \"\"\"\n",
    "    Description:\n",
    "    Builds a random forest classifier and scores it on the test set\n",
    "\n",
    "    Arguments:\n",
    "    X_train -- Training features,numpy matrix (m, 11)\n",
    "    y_train -- Training features,numpy matrix (m, )\n",
    "    X_test -- Test features,numpy matrix (m, 11)\n",
    "    y_test -- Test features,numpy matrix (m, )\n",
    "        \n",
    "    Returns:\n",
    "    rf_clf -- Classifier, sklearn DecisionTreeClassifier\n",
    "    \"\"\"\n",
    "    rf_clf = ske.RandomForestClassifier(n_estimators=50)\n",
    "    rf_clf.fit (X_train, y_train)\n",
    "    print(rf_clf.score (X_test, y_test))\n",
    "    \n",
    "    return rf_clf"
   ]
  },
  {
   "cell_type": "code",
   "execution_count": 55,
   "metadata": {
    "collapsed": false
   },
   "outputs": [
    {
     "name": "stdout",
     "output_type": "stream",
     "text": [
      "0.8146067415730337\n"
     ]
    }
   ],
   "source": [
    "rf_clf = randomForestClassifier(X_train, y_train, X_test, y_test)"
   ]
  },
  {
   "cell_type": "code",
   "execution_count": 61,
   "metadata": {
    "collapsed": true
   },
   "outputs": [],
   "source": [
    "def gradientBoostingClassifier(X_train, y_train, X_test, y_test):\n",
    "    \"\"\"\n",
    "    Description:\n",
    "    Builds a random forest classifier and scores it on the test set\n",
    "\n",
    "    Arguments:\n",
    "    X_train -- Training features,numpy matrix (m, 11)\n",
    "    y_train -- Training features,numpy matrix (m, )\n",
    "    X_test -- Test features,numpy matrix (m, 11)\n",
    "    y_test -- Test features,numpy matrix (m, )\n",
    "        \n",
    "    Returns:\n",
    "    rf_clf -- Classifier, sklearn DecisionTreeClassifier\n",
    "    \"\"\"\n",
    "    gb_clf = ske.GradientBoostingClassifier(n_estimators=50)\n",
    "    gb_clf.fit (X_train, y_train)\n",
    "    print(gb_clf.score (X_test, y_test))\n",
    "    \n",
    "    return gb_clf"
   ]
  },
  {
   "cell_type": "code",
   "execution_count": 62,
   "metadata": {
    "collapsed": false
   },
   "outputs": [
    {
     "name": "stdout",
     "output_type": "stream",
     "text": [
      "0.8370786516853933\n"
     ]
    }
   ],
   "source": [
    "gb_clf = gradientBoostingClassifier(X_train, y_train, X_test, y_test)"
   ]
  },
  {
   "cell_type": "code",
   "execution_count": null,
   "metadata": {
    "collapsed": true
   },
   "outputs": [],
   "source": []
  }
 ],
 "metadata": {
  "kernelspec": {
   "display_name": "tensorflow",
   "language": "python",
   "name": "tensorflow"
  },
  "language_info": {
   "codemirror_mode": {
    "name": "ipython",
    "version": 3
   },
   "file_extension": ".py",
   "mimetype": "text/x-python",
   "name": "python",
   "nbconvert_exporter": "python",
   "pygments_lexer": "ipython3",
   "version": "3.5.3"
  }
 },
 "nbformat": 4,
 "nbformat_minor": 2
}
