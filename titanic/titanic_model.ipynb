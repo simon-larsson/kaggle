{
 "cells": [
  {
   "cell_type": "code",
   "execution_count": 1,
   "metadata": {
    "collapsed": false
   },
   "outputs": [],
   "source": [
    "import math\n",
    "from time import time\n",
    "import numpy as np\n",
    "from scipy import stats\n",
    "import matplotlib.pyplot as plt\n",
    "import tensorflow as tf\n",
    "from tensorflow.python.framework import ops\n",
    "import pandas as pd\n",
    "import sklearn as sk\n",
    "import sklearn.ensemble as ske\n",
    "from sklearn.linear_model import LogisticRegression\n",
    "from sklearn.naive_bayes import GaussianNB\n",
    "from sklearn.neighbors import KNeighborsClassifier\n",
    "from sklearn.model_selection import cross_val_score\n",
    "from sklearn.metrics import classification_report\n",
    "from sklearn.model_selection import GridSearchCV\n",
    "from sklearn.model_selection import RandomizedSearchCV"
   ]
  },
  {
   "cell_type": "code",
   "execution_count": 2,
   "metadata": {
    "collapsed": false
   },
   "outputs": [],
   "source": [
    "# Removes a warning in sklearn that will be fixed during an update mid 2018\n",
    "import warnings\n",
    "\n",
    "if __name__ == '__main__':\n",
    "    warnings.filterwarnings(action='ignore', category=DeprecationWarning)\n",
    "    le = sk.preprocessing.LabelEncoder()\n",
    "    le.fit([1, 2, 2, 6])\n",
    "    le.transform([1, 1, 2, 6])\n",
    "    le.inverse_transform([0, 0, 1, 2])"
   ]
  },
  {
   "cell_type": "code",
   "execution_count": 3,
   "metadata": {
    "collapsed": false
   },
   "outputs": [
    {
     "data": {
      "text/html": [
       "<div>\n",
       "<style>\n",
       "    .dataframe thead tr:only-child th {\n",
       "        text-align: right;\n",
       "    }\n",
       "\n",
       "    .dataframe thead th {\n",
       "        text-align: left;\n",
       "    }\n",
       "\n",
       "    .dataframe tbody tr th {\n",
       "        vertical-align: top;\n",
       "    }\n",
       "</style>\n",
       "<table border=\"1\" class=\"dataframe\">\n",
       "  <thead>\n",
       "    <tr style=\"text-align: right;\">\n",
       "      <th></th>\n",
       "      <th>PassengerId</th>\n",
       "      <th>Survived</th>\n",
       "      <th>Pclass</th>\n",
       "      <th>Name</th>\n",
       "      <th>Sex</th>\n",
       "      <th>Age</th>\n",
       "      <th>SibSp</th>\n",
       "      <th>Parch</th>\n",
       "      <th>Ticket</th>\n",
       "      <th>Fare</th>\n",
       "      <th>Cabin</th>\n",
       "      <th>Embarked</th>\n",
       "    </tr>\n",
       "  </thead>\n",
       "  <tbody>\n",
       "    <tr>\n",
       "      <th>0</th>\n",
       "      <td>1</td>\n",
       "      <td>0</td>\n",
       "      <td>3</td>\n",
       "      <td>Braund, Mr. Owen Harris</td>\n",
       "      <td>male</td>\n",
       "      <td>22.0</td>\n",
       "      <td>1</td>\n",
       "      <td>0</td>\n",
       "      <td>A/5 21171</td>\n",
       "      <td>7.2500</td>\n",
       "      <td>NaN</td>\n",
       "      <td>S</td>\n",
       "    </tr>\n",
       "    <tr>\n",
       "      <th>1</th>\n",
       "      <td>2</td>\n",
       "      <td>1</td>\n",
       "      <td>1</td>\n",
       "      <td>Cumings, Mrs. John Bradley (Florence Briggs Th...</td>\n",
       "      <td>female</td>\n",
       "      <td>38.0</td>\n",
       "      <td>1</td>\n",
       "      <td>0</td>\n",
       "      <td>PC 17599</td>\n",
       "      <td>71.2833</td>\n",
       "      <td>C85</td>\n",
       "      <td>C</td>\n",
       "    </tr>\n",
       "    <tr>\n",
       "      <th>2</th>\n",
       "      <td>3</td>\n",
       "      <td>1</td>\n",
       "      <td>3</td>\n",
       "      <td>Heikkinen, Miss. Laina</td>\n",
       "      <td>female</td>\n",
       "      <td>26.0</td>\n",
       "      <td>0</td>\n",
       "      <td>0</td>\n",
       "      <td>STON/O2. 3101282</td>\n",
       "      <td>7.9250</td>\n",
       "      <td>NaN</td>\n",
       "      <td>S</td>\n",
       "    </tr>\n",
       "    <tr>\n",
       "      <th>3</th>\n",
       "      <td>4</td>\n",
       "      <td>1</td>\n",
       "      <td>1</td>\n",
       "      <td>Futrelle, Mrs. Jacques Heath (Lily May Peel)</td>\n",
       "      <td>female</td>\n",
       "      <td>35.0</td>\n",
       "      <td>1</td>\n",
       "      <td>0</td>\n",
       "      <td>113803</td>\n",
       "      <td>53.1000</td>\n",
       "      <td>C123</td>\n",
       "      <td>S</td>\n",
       "    </tr>\n",
       "    <tr>\n",
       "      <th>4</th>\n",
       "      <td>5</td>\n",
       "      <td>0</td>\n",
       "      <td>3</td>\n",
       "      <td>Allen, Mr. William Henry</td>\n",
       "      <td>male</td>\n",
       "      <td>35.0</td>\n",
       "      <td>0</td>\n",
       "      <td>0</td>\n",
       "      <td>373450</td>\n",
       "      <td>8.0500</td>\n",
       "      <td>NaN</td>\n",
       "      <td>S</td>\n",
       "    </tr>\n",
       "  </tbody>\n",
       "</table>\n",
       "</div>"
      ],
      "text/plain": [
       "   PassengerId  Survived  Pclass  \\\n",
       "0            1         0       3   \n",
       "1            2         1       1   \n",
       "2            3         1       3   \n",
       "3            4         1       1   \n",
       "4            5         0       3   \n",
       "\n",
       "                                                Name     Sex   Age  SibSp  \\\n",
       "0                            Braund, Mr. Owen Harris    male  22.0      1   \n",
       "1  Cumings, Mrs. John Bradley (Florence Briggs Th...  female  38.0      1   \n",
       "2                             Heikkinen, Miss. Laina  female  26.0      0   \n",
       "3       Futrelle, Mrs. Jacques Heath (Lily May Peel)  female  35.0      1   \n",
       "4                           Allen, Mr. William Henry    male  35.0      0   \n",
       "\n",
       "   Parch            Ticket     Fare Cabin Embarked  \n",
       "0      0         A/5 21171   7.2500   NaN        S  \n",
       "1      0          PC 17599  71.2833   C85        C  \n",
       "2      0  STON/O2. 3101282   7.9250   NaN        S  \n",
       "3      0            113803  53.1000  C123        S  \n",
       "4      0            373450   8.0500   NaN        S  "
      ]
     },
     "execution_count": 3,
     "metadata": {},
     "output_type": "execute_result"
    }
   ],
   "source": [
    "df = pd.read_csv('C:/GitHub/kaggle/titanic/data/train.csv', sep=',', header=0)\n",
    "df.head(5)"
   ]
  },
  {
   "cell_type": "code",
   "execution_count": 4,
   "metadata": {
    "collapsed": true
   },
   "outputs": [],
   "source": [
    "def substrings_in_string(whole, subs): \n",
    "    \n",
    "    for x in subs:\n",
    "        if x in str(whole): \n",
    "            return x\n",
    "        \n",
    "    return 'Unknown'"
   ]
  },
  {
   "cell_type": "code",
   "execution_count": 5,
   "metadata": {
    "collapsed": true
   },
   "outputs": [],
   "source": [
    "def extract_title(full_name):\n",
    "    \n",
    "    full_name  = str(full_name)\n",
    "    \n",
    "    x = full_name.split(\", \")\n",
    "    x = x[1]\n",
    "    x = x.split('.')\n",
    "    x = x[0]\n",
    "    \n",
    "    return x"
   ]
  },
  {
   "cell_type": "code",
   "execution_count": 6,
   "metadata": {
    "collapsed": true
   },
   "outputs": [],
   "source": [
    "def simplify_titles(x):\n",
    "    \n",
    "    title=x['Title']\n",
    "    \n",
    "    if title in ['Don', 'Major', 'Capt', 'Jonkheer', 'Rev', 'Col', 'Sir']:\n",
    "        return 'Mr'\n",
    "    elif title in ['the Countess', 'Mme', 'Dona', 'Lady']:\n",
    "        return 'Mrs'\n",
    "    elif title in ['Mlle', 'Ms']:\n",
    "        return 'Miss'\n",
    "    elif title == 'Dr':\n",
    "        if x['Sex'] == 0:\n",
    "            return 'Mrs'\n",
    "        else:\n",
    "            return 'Mr'\n",
    "    else:\n",
    "        return title\n",
    "    "
   ]
  },
  {
   "cell_type": "code",
   "execution_count": 7,
   "metadata": {
    "collapsed": false
   },
   "outputs": [],
   "source": [
    "def preprocess_dataframe(df, prediction_data=False, print_info=False):\n",
    "    \"\"\"\n",
    "    Description:\n",
    "    \n",
    "    Performs preprocessing on the titanic data\n",
    "    \n",
    "    PassengerId - Id (Only available on training data)\n",
    "    Survived    - Survived  (0 = No; 1 = Yes)\n",
    "    Pclass      - Passenger Class  (1 = 1st; 2 = 2nd; 3 = 3rd)\n",
    "    Name        - Name\n",
    "    Sex         - Sex\n",
    "    Age         - Age\n",
    "    Sibsp       - Number of Siblings/Spouses Aboard\n",
    "    Parch       - Number of Parents/Children Aboard\n",
    "    Ticket      - Ticket Number\n",
    "    Fare        - Passenger Fare (British pound)\n",
    "    Cabin       - Cabin code\n",
    "    Embarked    - Port of Embarkation (C = Cherbourg; Q = Queenstown; S = Southampton)\n",
    "    \n",
    "    Arguments:\n",
    "    df -- Dataset, Pandas DataFrame\n",
    "    \n",
    "    Returns:\n",
    "    df -- Dataset, Pandas DataFrame\n",
    "    \"\"\"\n",
    "\n",
    "    # Age has missing values which is replaced with average\n",
    "    # Might also consider dividing age into classes of age brackets\n",
    "    df['Age'].fillna((df['Age'].mean()), inplace = True)\n",
    "    df['Fare'].fillna((df['Fare'].mean()), inplace = True)\n",
    "    \n",
    "    # Encode sex into binary (0 = male, 1 = female)\n",
    "    df['Sex'] = df['Sex'].map({'female': 1, 'male': 0})\n",
    "    \n",
    "    # Turning Cabin number into Deck\n",
    "    cabin_list = ['A', 'B', 'C', 'D', 'E', 'F', 'T', 'G', 'Unknown']\n",
    "    df['Deck' ]= df['Cabin'].map(lambda x: substrings_in_string(x, cabin_list))\n",
    "    \n",
    "    # Calculate family size\n",
    "    df['FamilySize'] = df['SibSp'] + df['Parch']\n",
    "    \n",
    "    # Age brackets\n",
    "    df['AgeBracket'] = df['Age'].apply(lambda x: 'Child' if x <= 10 else ('Adult' if x < 50 else 'Senior'))\n",
    "\n",
    "    \"\"\"\n",
    "    # Extract and process titles\n",
    "    df['Title']= df['Name'].map(lambda x: extract_title(x))\n",
    "    if not prediction_data:\n",
    "        unique_titles = df['Title'].unique()\n",
    "        survival_by_title = df.groupby('Title').mean()['Survived']\n",
    "        \n",
    "    df['Title']=df.apply(simplify_titles, axis=1)\n",
    "    if not prediction_data:\n",
    "        unique_titles_simplified = df['Title'].unique()\n",
    "        survival_by_title_simplified = df.groupby('Title').mean()['Survived']\n",
    "    \"\"\"\n",
    "    \n",
    "\n",
    "    # Gather info on the significance of these classes for survival\n",
    "    # Class was, as expected, significance for surival with the rates (1st - 63%, 2nd - 47%, 3rd - 24%)\n",
    "    # Embarked was suprisingly significant, C - Cherbourg had 55% surivial rate when the mean was just 38%\n",
    "    if not prediction_data:\n",
    "        survival_by_plcass = df.groupby('Pclass').mean()['Survived']\n",
    "        survival_by_deck = df.groupby('Deck').mean()['Survived']\n",
    "        survival_by_embark = df.groupby('Embarked').mean()['Survived']\n",
    "        survival_by_familysize = df.groupby('FamilySize').mean()['Survived']\n",
    "        survival_by_agebracket = df.groupby('AgeBracket').mean()['Survived']\n",
    "    \n",
    "    # Split classes with one hot encoding\n",
    "    # Pclass   - splits into (1 = Pclass_1, 2 = Pclass_2, 3 = Pclass_3)\n",
    "    # Embarked - splits into (C = Embarked_C, Q = Embarked_Q, S = Embarked_S)\n",
    "    # Deck - splits into decks with letters\n",
    "    df = pd.get_dummies(df, columns = ['Pclass', 'Embarked', 'Deck', 'AgeBracket']) #, 'Title'])\n",
    "\n",
    "    # Drop columns with data deemed not relevant for learning\n",
    "    # Name     - Gender already has its' own column. Only thing that might be interesting here is the title\n",
    "    # Ticket   - Ticket does not really say much, price and class are already included which says the most\n",
    "    # Cabin    - Replaced by Deck\n",
    "    df = df.drop(['PassengerId', 'Name', 'Ticket', 'Cabin', 'Age'], axis=1) #, 'SibSp', 'Parch'], axis=1)\n",
    "    \n",
    "    if prediction_data:\n",
    "        m = df.shape[0]\n",
    "        df['Deck_T'] = pd.Series(np.zeros(m, dtype=int), index=df.index)\n",
    "    \n",
    "    # Normalize the data\n",
    "    norm_vals = ['Fare', 'FamilySize', 'SibSp', 'Parch'] #, 'Age']\n",
    "    df[norm_vals] = (df[norm_vals] - df[norm_vals].min())/(df[norm_vals].max() - df[norm_vals].min())\n",
    "    \n",
    "    if print_info:\n",
    "        if not prediction_data:\n",
    "            print('--------------------------------------------------------------------------------------')\n",
    "            print('SURVIVAL RATE')\n",
    "            print('--------------------------------------------------------------------------------------')\n",
    "            print('Overall survival rate: ' + str(df['Survived'].mean()))\n",
    "            print()\n",
    "            print(survival_by_plcass)\n",
    "            print()\n",
    "            print(survival_by_embark)\n",
    "            print()\n",
    "            print(survival_by_deck)\n",
    "            print()\n",
    "            #print(survival_by_title)\n",
    "            print()\n",
    "            #print(survival_by_title_simplified)\n",
    "            print()\n",
    "            print(survival_by_familysize)\n",
    "            print()\n",
    "            print(survival_by_agebracket)\n",
    "        \"\"\"\n",
    "        print('--------------------------------------------------------------------------------------')\n",
    "        print('TITLES')\n",
    "        print('--------------------------------------------------------------------------------------')\n",
    "        print('All titels: ')\n",
    "        print(unique_titles)\n",
    "        print()\n",
    "        print('Simplied titels: ')\n",
    "        print(unique_titles_simplified)\n",
    "        \"\"\"\n",
    "        print('--------------------------------------------------------------------------------------')\n",
    "        print('SUMS')\n",
    "        print('--------------------------------------------------------------------------------------')\n",
    "        print(df.sum())\n",
    "        print('--------------------------------------------------------------------------------------')\n",
    "        print('DATA INFO')\n",
    "        print('--------------------------------------------------------------------------------------')\n",
    "        print(df.info())\n",
    "        print('--------------------------------------------------------------------------------------')\n",
    "        print('MISSING VALUES')\n",
    "        print('--------------------------------------------------------------------------------------')\n",
    "        print(df.isnull().sum())\n",
    "        print('--------------------------------------------------------------------------------------')\n",
    "        print('CORRELATIONS')\n",
    "        print('--------------------------------------------------------------------------------------')\n",
    "        print(df.corr())\n",
    "        print('--------------------------------------------------------------------------------------')\n",
    "\n",
    "    return df"
   ]
  },
  {
   "cell_type": "code",
   "execution_count": 8,
   "metadata": {
    "collapsed": false
   },
   "outputs": [],
   "source": [
    "def split_data(df):\n",
    "    \"\"\"\n",
    "    Description:\n",
    "    Splits the data into test/training set for simple validation\n",
    "\n",
    "    Arguments:\n",
    "    df -- Dataset, pandas dataframe\n",
    "        \n",
    "    Returns:\n",
    "    train -- Training samples, pandas dataframe\n",
    "    test -- Test samples, pandas dataframe\n",
    "    \"\"\"\n",
    "\n",
    "    df_train = df.sample(frac = 0.8, random_state = 42)\n",
    "    df_test = df.drop(df_train.index)  \n",
    "    \n",
    "    X_train = df_train.drop(['Survived'], axis=1).values\n",
    "    y_train = df_train['Survived'].values\n",
    "    \n",
    "    X_test = df_test.drop(['Survived'], axis=1).values\n",
    "    y_test = df_test['Survived'].values\n",
    "    \n",
    "    return X_train, y_train, X_test, y_test"
   ]
  },
  {
   "cell_type": "code",
   "execution_count": 9,
   "metadata": {
    "collapsed": false
   },
   "outputs": [
    {
     "name": "stdout",
     "output_type": "stream",
     "text": [
      "X_train shape: (713, 23)\n",
      "y_train shape: (713,)\n",
      "X_test shape: (178, 23)\n",
      "y_test shape: (178,)\n"
     ]
    },
    {
     "data": {
      "text/html": [
       "<div>\n",
       "<style>\n",
       "    .dataframe thead tr:only-child th {\n",
       "        text-align: right;\n",
       "    }\n",
       "\n",
       "    .dataframe thead th {\n",
       "        text-align: left;\n",
       "    }\n",
       "\n",
       "    .dataframe tbody tr th {\n",
       "        vertical-align: top;\n",
       "    }\n",
       "</style>\n",
       "<table border=\"1\" class=\"dataframe\">\n",
       "  <thead>\n",
       "    <tr style=\"text-align: right;\">\n",
       "      <th></th>\n",
       "      <th>Survived</th>\n",
       "      <th>Sex</th>\n",
       "      <th>SibSp</th>\n",
       "      <th>Parch</th>\n",
       "      <th>Fare</th>\n",
       "      <th>FamilySize</th>\n",
       "      <th>Pclass_1</th>\n",
       "      <th>Pclass_2</th>\n",
       "      <th>Pclass_3</th>\n",
       "      <th>Embarked_C</th>\n",
       "      <th>...</th>\n",
       "      <th>Deck_C</th>\n",
       "      <th>Deck_D</th>\n",
       "      <th>Deck_E</th>\n",
       "      <th>Deck_F</th>\n",
       "      <th>Deck_G</th>\n",
       "      <th>Deck_T</th>\n",
       "      <th>Deck_Unknown</th>\n",
       "      <th>AgeBracket_Adult</th>\n",
       "      <th>AgeBracket_Child</th>\n",
       "      <th>AgeBracket_Senior</th>\n",
       "    </tr>\n",
       "  </thead>\n",
       "  <tbody>\n",
       "    <tr>\n",
       "      <th>0</th>\n",
       "      <td>0</td>\n",
       "      <td>0</td>\n",
       "      <td>0.125</td>\n",
       "      <td>0.0</td>\n",
       "      <td>0.014151</td>\n",
       "      <td>0.1</td>\n",
       "      <td>0</td>\n",
       "      <td>0</td>\n",
       "      <td>1</td>\n",
       "      <td>0</td>\n",
       "      <td>...</td>\n",
       "      <td>0</td>\n",
       "      <td>0</td>\n",
       "      <td>0</td>\n",
       "      <td>0</td>\n",
       "      <td>0</td>\n",
       "      <td>0</td>\n",
       "      <td>1</td>\n",
       "      <td>1</td>\n",
       "      <td>0</td>\n",
       "      <td>0</td>\n",
       "    </tr>\n",
       "    <tr>\n",
       "      <th>1</th>\n",
       "      <td>1</td>\n",
       "      <td>1</td>\n",
       "      <td>0.125</td>\n",
       "      <td>0.0</td>\n",
       "      <td>0.139136</td>\n",
       "      <td>0.1</td>\n",
       "      <td>1</td>\n",
       "      <td>0</td>\n",
       "      <td>0</td>\n",
       "      <td>1</td>\n",
       "      <td>...</td>\n",
       "      <td>1</td>\n",
       "      <td>0</td>\n",
       "      <td>0</td>\n",
       "      <td>0</td>\n",
       "      <td>0</td>\n",
       "      <td>0</td>\n",
       "      <td>0</td>\n",
       "      <td>1</td>\n",
       "      <td>0</td>\n",
       "      <td>0</td>\n",
       "    </tr>\n",
       "    <tr>\n",
       "      <th>2</th>\n",
       "      <td>1</td>\n",
       "      <td>1</td>\n",
       "      <td>0.000</td>\n",
       "      <td>0.0</td>\n",
       "      <td>0.015469</td>\n",
       "      <td>0.0</td>\n",
       "      <td>0</td>\n",
       "      <td>0</td>\n",
       "      <td>1</td>\n",
       "      <td>0</td>\n",
       "      <td>...</td>\n",
       "      <td>0</td>\n",
       "      <td>0</td>\n",
       "      <td>0</td>\n",
       "      <td>0</td>\n",
       "      <td>0</td>\n",
       "      <td>0</td>\n",
       "      <td>1</td>\n",
       "      <td>1</td>\n",
       "      <td>0</td>\n",
       "      <td>0</td>\n",
       "    </tr>\n",
       "    <tr>\n",
       "      <th>3</th>\n",
       "      <td>1</td>\n",
       "      <td>1</td>\n",
       "      <td>0.125</td>\n",
       "      <td>0.0</td>\n",
       "      <td>0.103644</td>\n",
       "      <td>0.1</td>\n",
       "      <td>1</td>\n",
       "      <td>0</td>\n",
       "      <td>0</td>\n",
       "      <td>0</td>\n",
       "      <td>...</td>\n",
       "      <td>1</td>\n",
       "      <td>0</td>\n",
       "      <td>0</td>\n",
       "      <td>0</td>\n",
       "      <td>0</td>\n",
       "      <td>0</td>\n",
       "      <td>0</td>\n",
       "      <td>1</td>\n",
       "      <td>0</td>\n",
       "      <td>0</td>\n",
       "    </tr>\n",
       "    <tr>\n",
       "      <th>4</th>\n",
       "      <td>0</td>\n",
       "      <td>0</td>\n",
       "      <td>0.000</td>\n",
       "      <td>0.0</td>\n",
       "      <td>0.015713</td>\n",
       "      <td>0.0</td>\n",
       "      <td>0</td>\n",
       "      <td>0</td>\n",
       "      <td>1</td>\n",
       "      <td>0</td>\n",
       "      <td>...</td>\n",
       "      <td>0</td>\n",
       "      <td>0</td>\n",
       "      <td>0</td>\n",
       "      <td>0</td>\n",
       "      <td>0</td>\n",
       "      <td>0</td>\n",
       "      <td>1</td>\n",
       "      <td>1</td>\n",
       "      <td>0</td>\n",
       "      <td>0</td>\n",
       "    </tr>\n",
       "  </tbody>\n",
       "</table>\n",
       "<p>5 rows × 24 columns</p>\n",
       "</div>"
      ],
      "text/plain": [
       "   Survived  Sex  SibSp  Parch      Fare  FamilySize  Pclass_1  Pclass_2  \\\n",
       "0         0    0  0.125    0.0  0.014151         0.1         0         0   \n",
       "1         1    1  0.125    0.0  0.139136         0.1         1         0   \n",
       "2         1    1  0.000    0.0  0.015469         0.0         0         0   \n",
       "3         1    1  0.125    0.0  0.103644         0.1         1         0   \n",
       "4         0    0  0.000    0.0  0.015713         0.0         0         0   \n",
       "\n",
       "   Pclass_3  Embarked_C        ...          Deck_C  Deck_D  Deck_E  Deck_F  \\\n",
       "0         1           0        ...               0       0       0       0   \n",
       "1         0           1        ...               1       0       0       0   \n",
       "2         1           0        ...               0       0       0       0   \n",
       "3         0           0        ...               1       0       0       0   \n",
       "4         1           0        ...               0       0       0       0   \n",
       "\n",
       "   Deck_G  Deck_T  Deck_Unknown  AgeBracket_Adult  AgeBracket_Child  \\\n",
       "0       0       0             1                 1                 0   \n",
       "1       0       0             0                 1                 0   \n",
       "2       0       0             1                 1                 0   \n",
       "3       0       0             0                 1                 0   \n",
       "4       0       0             1                 1                 0   \n",
       "\n",
       "   AgeBracket_Senior  \n",
       "0                  0  \n",
       "1                  0  \n",
       "2                  0  \n",
       "3                  0  \n",
       "4                  0  \n",
       "\n",
       "[5 rows x 24 columns]"
      ]
     },
     "execution_count": 9,
     "metadata": {},
     "output_type": "execute_result"
    }
   ],
   "source": [
    "df_processed = preprocess_dataframe(df, False, False)\n",
    "\n",
    "X_train, y_train, X_test, y_test = split_data(df_processed)\n",
    "\n",
    "print (\"X_train shape: \" + str(X_train.shape))\n",
    "print (\"y_train shape: \" + str(y_train.shape))\n",
    "print (\"X_test shape: \" + str(X_test.shape))\n",
    "print (\"y_test shape: \" + str(y_test.shape))\n",
    "\n",
    "df_processed.head(5)"
   ]
  },
  {
   "cell_type": "code",
   "execution_count": 10,
   "metadata": {
    "collapsed": false
   },
   "outputs": [],
   "source": [
    "def decision_tree_clf(X_train, y_train, X_test, y_test):\n",
    "    \"\"\"\n",
    "    Description:\n",
    "    Builds and trains a decision tree classifier\n",
    "\n",
    "    Arguments:\n",
    "    X_train -- Training features,numpy matrix (m, 11)\n",
    "    y_train -- Training features,numpy matrix (m, )\n",
    "    X_test -- Test features,numpy matrix (m, 11)\n",
    "    y_test -- Test features,numpy matrix (m, )\n",
    "        \n",
    "    Returns:\n",
    "    dt_clf -- Classifier, sklearn DecisionTreeClassifier\n",
    "    \"\"\"\n",
    "    \n",
    "    dt_clf = sk.tree.DecisionTreeClassifier(max_depth=20)\n",
    "    dt_clf.fit (X_train, y_train)\n",
    "    print(dt_clf.score (X_test, y_test))\n",
    "    \n",
    "    return dt_clf"
   ]
  },
  {
   "cell_type": "code",
   "execution_count": 11,
   "metadata": {
    "collapsed": false
   },
   "outputs": [
    {
     "name": "stdout",
     "output_type": "stream",
     "text": [
      "0.8089887640449438\n"
     ]
    }
   ],
   "source": [
    "dt_clf = decision_tree_clf(X_train, y_train, X_test, y_test)"
   ]
  },
  {
   "cell_type": "code",
   "execution_count": 12,
   "metadata": {
    "collapsed": true
   },
   "outputs": [],
   "source": [
    "def random_forest_clf(X_train, y_train, X_test, y_test):\n",
    "    \"\"\"\n",
    "    Description:\n",
    "    Builds and trains a random forest classifier\n",
    "\n",
    "    Arguments:\n",
    "    X_train -- Training features,numpy matrix (m, 11)\n",
    "    y_train -- Training features,numpy matrix (m, )\n",
    "    X_test -- Test features,numpy matrix (m, 11)\n",
    "    y_test -- Test features,numpy matrix (m, )\n",
    "        \n",
    "    Returns:\n",
    "    rf_clf -- Classifier, sklearn RandomForestClassifier\n",
    "    \"\"\"\n",
    "    \n",
    "    rf_clf = ske.RandomForestClassifier(n_estimators=50)\n",
    "    rf_clf.fit (X_train, y_train)\n",
    "    print(rf_clf.score (X_test, y_test))\n",
    "    \n",
    "    return rf_clf"
   ]
  },
  {
   "cell_type": "code",
   "execution_count": 13,
   "metadata": {
    "collapsed": false
   },
   "outputs": [
    {
     "name": "stdout",
     "output_type": "stream",
     "text": [
      "0.8033707865168539\n"
     ]
    }
   ],
   "source": [
    "rf_clf = random_forest_clf(X_train, y_train, X_test, y_test)"
   ]
  },
  {
   "cell_type": "code",
   "execution_count": 14,
   "metadata": {
    "collapsed": true
   },
   "outputs": [],
   "source": [
    "def gradient_boosting_clf(X_train, y_train, X_test, y_test):\n",
    "    \"\"\"\n",
    "    Description:\n",
    "    Builds and trains a gradient boosting classifier\n",
    "\n",
    "    Arguments:\n",
    "    X_train -- Training features,numpy matrix (m, 11)\n",
    "    y_train -- Training features,numpy matrix (m, )\n",
    "    X_test -- Test features,numpy matrix (m, 11)\n",
    "    y_test -- Test features,numpy matrix (m, )\n",
    "        \n",
    "    Returns:\n",
    "    gb_clf -- Classifier, sklearn GradiantBoostingClassifier\n",
    "    \"\"\"\n",
    "    \n",
    "    gb_clf = ske.GradientBoostingClassifier(n_estimators=50)\n",
    "    gb_clf.fit (X_train, y_train)\n",
    "    print(gb_clf.score (X_test, y_test))\n",
    "    \n",
    "    return gb_clf"
   ]
  },
  {
   "cell_type": "code",
   "execution_count": 15,
   "metadata": {
    "collapsed": false
   },
   "outputs": [
    {
     "name": "stdout",
     "output_type": "stream",
     "text": [
      "0.8370786516853933\n"
     ]
    }
   ],
   "source": [
    "gb_clf = gradient_boosting_clf(X_train, y_train, X_test, y_test) "
   ]
  },
  {
   "cell_type": "code",
   "execution_count": 16,
   "metadata": {
    "collapsed": true
   },
   "outputs": [],
   "source": [
    "def logistic_regression_clf(X_train, y_train, X_test, y_test):\n",
    "    \"\"\"\n",
    "    Description:\n",
    "    Builds and trains a logistic regression classifier\n",
    "\n",
    "    Arguments:\n",
    "    X_train -- Training features,numpy matrix (m, 11)\n",
    "    y_train -- Training features,numpy matrix (m, )\n",
    "    X_test -- Test features,numpy matrix (m, 11)\n",
    "    y_test -- Test features,numpy matrix (m, )\n",
    "        \n",
    "    Returns:\n",
    "    rf_clf -- Classifier, sklearn LogisticRegression\n",
    "    \"\"\"\n",
    "    \n",
    "    lr_clf = LogisticRegression()\n",
    "    lr_clf.fit (X_train, y_train)\n",
    "    print(lr_clf.score (X_test, y_test))\n",
    "    \n",
    "    return lr_clf"
   ]
  },
  {
   "cell_type": "code",
   "execution_count": 17,
   "metadata": {
    "collapsed": false
   },
   "outputs": [
    {
     "name": "stdout",
     "output_type": "stream",
     "text": [
      "0.8202247191011236\n"
     ]
    }
   ],
   "source": [
    "lr_clf = logistic_regression_clf(X_train, y_train, X_test, y_test)"
   ]
  },
  {
   "cell_type": "code",
   "execution_count": 18,
   "metadata": {
    "collapsed": true
   },
   "outputs": [],
   "source": [
    "def support_vector_machine_clf(X_train, y_train, X_test, y_test):\n",
    "    \"\"\"\n",
    "    Description:\n",
    "    Builds and trains a support vector machine classifier\n",
    "\n",
    "    Arguments:\n",
    "    X_train -- Training features,numpy matrix (m, 11)\n",
    "    y_train -- Training features,numpy matrix (m, )\n",
    "    X_test -- Test features,numpy matrix (m, 11)\n",
    "    y_test -- Test features,numpy matrix (m, )\n",
    "        \n",
    "    Returns:\n",
    "    svm_clf -- Classifier, sklearn SVC\n",
    "    \"\"\"\n",
    "    \n",
    "    svm_clf = sk.svm.SVC(probability=True)\n",
    "    svm_clf.fit (X_train, y_train)\n",
    "    print(svm_clf.score (X_test, y_test))\n",
    "    \n",
    "    return svm_clf"
   ]
  },
  {
   "cell_type": "code",
   "execution_count": 19,
   "metadata": {
    "collapsed": false
   },
   "outputs": [
    {
     "name": "stdout",
     "output_type": "stream",
     "text": [
      "0.8089887640449438\n"
     ]
    }
   ],
   "source": [
    "svm_clf = support_vector_machine_clf(X_train, y_train, X_test, y_test) "
   ]
  },
  {
   "cell_type": "code",
   "execution_count": 20,
   "metadata": {
    "collapsed": true
   },
   "outputs": [],
   "source": [
    "def naive_bayes_clf(X_train, y_train, X_test, y_test):\n",
    "    \"\"\"\n",
    "    Description:\n",
    "    Builds and trains a gaussian naive bayes classifier\n",
    "\n",
    "    Arguments:\n",
    "    X_train -- Training features,numpy matrix (m, 11)\n",
    "    y_train -- Training features,numpy matrix (m, )\n",
    "    X_test -- Test features,numpy matrix (m, 11)\n",
    "    y_test -- Test features,numpy matrix (m, )\n",
    "        \n",
    "    Returns:\n",
    "    svm_clf -- Classifier, sklearn GaussianNB\n",
    "    \"\"\"\n",
    "    \n",
    "    nb_clf = GaussianNB()\n",
    "    nb_clf.fit (X_train, y_train)\n",
    "    print(nb_clf.score (X_test, y_test))\n",
    "    \n",
    "    return nb_clf"
   ]
  },
  {
   "cell_type": "code",
   "execution_count": 21,
   "metadata": {
    "collapsed": false
   },
   "outputs": [
    {
     "name": "stdout",
     "output_type": "stream",
     "text": [
      "0.7191011235955056\n"
     ]
    }
   ],
   "source": [
    "nb_clf = naive_bayes_clf(X_train, y_train, X_test, y_test)"
   ]
  },
  {
   "cell_type": "code",
   "execution_count": 22,
   "metadata": {
    "collapsed": true
   },
   "outputs": [],
   "source": [
    "def k_neighbors_clf(X_train, y_train, X_test, y_test):\n",
    "    \"\"\"\n",
    "    Description:\n",
    "    Builds and trains a k-nearest neighbors classifier\n",
    "\n",
    "    Arguments:\n",
    "    X_train -- Training features,numpy matrix (m, 11)\n",
    "    y_train -- Training features,numpy matrix (m, )\n",
    "    X_test -- Test features,numpy matrix (m, 11)\n",
    "    y_test -- Test features,numpy matrix (m, )\n",
    "        \n",
    "    Returns:\n",
    "    svm_clf -- Classifier, sklearn KNeighborsClassifier\n",
    "    \"\"\"\n",
    "    \n",
    "    knn_clf = KNeighborsClassifier(n_neighbors=6)\n",
    "    knn_clf.fit (X_train, y_train)\n",
    "    print(knn_clf.score (X_test, y_test))\n",
    "    \n",
    "    return knn_clf"
   ]
  },
  {
   "cell_type": "code",
   "execution_count": 23,
   "metadata": {
    "collapsed": false
   },
   "outputs": [
    {
     "name": "stdout",
     "output_type": "stream",
     "text": [
      "0.8033707865168539\n"
     ]
    }
   ],
   "source": [
    "knn_clf = k_neighbors_clf(X_train, y_train, X_test, y_test)"
   ]
  },
  {
   "cell_type": "code",
   "execution_count": 38,
   "metadata": {
    "collapsed": true
   },
   "outputs": [],
   "source": [
    "def ensamble_voting_clf(clfs, X_train, y_train, X_test, y_test, cv=20, score_individually=False):\n",
    "    \"\"\"\n",
    "    Description:\n",
    "    Builds and trains an ensamble of classifiers which them vote together\n",
    "\n",
    "    Arguments:\n",
    "    clfs -- Classifiers with labels, List Tuple(String, clf)\n",
    "    \n",
    "    Returns:\n",
    "    e_clf -- Classifier, sklearn VotingClassifier\n",
    "    \"\"\"\n",
    "    \n",
    "    e_clf = ske.VotingClassifier(estimators=clfs, voting='hard') # Hard voting where majority rules\n",
    "    e_clf.fit (X_train, y_train)\n",
    "    \n",
    "    if score_individually:\n",
    "        for label, clf in clfs:\n",
    "            scores = cross_val_score(clf, X_test, y_test, cv=cv, scoring='accuracy')\n",
    "            print(\"Accuracy: %0.2f (+/- %0.2f) [%s]\" % (scores.mean(), scores.std(), label))    \n",
    "    \n",
    "    scores = cross_val_score(e_clf, X_test, y_test, cv=cv, scoring='accuracy')\n",
    "    print(\"Accuracy: %0.2f (+/- %0.2f) [%s]\" % (scores.mean(), scores.std(), 'Voting Ensamble')) \n",
    "    \n",
    "    return e_clf    "
   ]
  },
  {
   "cell_type": "code",
   "execution_count": 25,
   "metadata": {
    "collapsed": false
   },
   "outputs": [
    {
     "name": "stdout",
     "output_type": "stream",
     "text": [
      "Accuracy: 0.80 (+/- 0.09) [Decision Tree]\n",
      "Accuracy: 0.82 (+/- 0.08) [Random Forest]\n",
      "Accuracy: 0.81 (+/- 0.11) [Gradiant Boosting]\n",
      "Accuracy: 0.84 (+/- 0.12) [Logistic Regression]\n",
      "Accuracy: 0.81 (+/- 0.10) [SVM]\n",
      "Accuracy: 0.45 (+/- 0.13) [Naive Bayes]\n",
      "Accuracy: 0.79 (+/- 0.11) [K-Nearest]\n",
      "Accuracy: 0.83 (+/- 0.09) [Voting Ensamble]\n"
     ]
    }
   ],
   "source": [
    "clfs = ([('Decision Tree', dt_clf), ('Random Forest', rf_clf), ('Gradiant Boosting', gb_clf), \n",
    "         ('Logistic Regression', lr_clf), ('SVM', svm_clf), ('Naive Bayes', nb_clf), ('K-Nearest', knn_clf)])\n",
    "\n",
    "e_clf = ensamble_voting_clf(clfs, X_train, y_train, X_test, y_test, score_individually=True)"
   ]
  },
  {
   "cell_type": "code",
   "execution_count": 26,
   "metadata": {
    "collapsed": true
   },
   "outputs": [],
   "source": [
    "def predict(df, clf, export_path):\n",
    "    \"\"\"\n",
    "    Description:\n",
    "    Makes predictions X -> y and exports to csv\n",
    "\n",
    "    Arguments:\n",
    "    df -- Data to predict from, pandas DataFrame\n",
    "    clf -- classifier, Classifier, sklearn classifier object\n",
    "    export_path -- Path and name of file, String\n",
    "        \n",
    "    Returns:\n",
    "    df_pred -- prediction, pandas DataFrame\n",
    "    \"\"\"\n",
    "    \n",
    "    # Extract Ids\n",
    "    y1 = df['PassengerId'].values\n",
    "    \n",
    "    # Make predictions\n",
    "    df_process = preprocess_dataframe(df, prediction_data=True, print_info=False) \n",
    "    X = df_process.values\n",
    "    y2 = clf.predict(X)\n",
    "    \n",
    "    # Combine ids and predictions\n",
    "    y = np.column_stack((y1, y2))\n",
    "    \n",
    "    # Restore pandas df\n",
    "    df_pred = pd.DataFrame(y)\n",
    "    df_pred.columns = [\"PassengerId\", \"Survived\"]\n",
    "    \n",
    "    # Export\n",
    "    df_pred.to_csv(export_path, sep=',', index=False)\n",
    "    \n",
    "    return df_pred"
   ]
  },
  {
   "cell_type": "code",
   "execution_count": 27,
   "metadata": {
    "collapsed": false
   },
   "outputs": [
    {
     "data": {
      "text/html": [
       "<div>\n",
       "<style>\n",
       "    .dataframe thead tr:only-child th {\n",
       "        text-align: right;\n",
       "    }\n",
       "\n",
       "    .dataframe thead th {\n",
       "        text-align: left;\n",
       "    }\n",
       "\n",
       "    .dataframe tbody tr th {\n",
       "        vertical-align: top;\n",
       "    }\n",
       "</style>\n",
       "<table border=\"1\" class=\"dataframe\">\n",
       "  <thead>\n",
       "    <tr style=\"text-align: right;\">\n",
       "      <th></th>\n",
       "      <th>PassengerId</th>\n",
       "      <th>Survived</th>\n",
       "    </tr>\n",
       "  </thead>\n",
       "  <tbody>\n",
       "    <tr>\n",
       "      <th>0</th>\n",
       "      <td>892</td>\n",
       "      <td>0</td>\n",
       "    </tr>\n",
       "    <tr>\n",
       "      <th>1</th>\n",
       "      <td>893</td>\n",
       "      <td>1</td>\n",
       "    </tr>\n",
       "    <tr>\n",
       "      <th>2</th>\n",
       "      <td>894</td>\n",
       "      <td>0</td>\n",
       "    </tr>\n",
       "    <tr>\n",
       "      <th>3</th>\n",
       "      <td>895</td>\n",
       "      <td>0</td>\n",
       "    </tr>\n",
       "    <tr>\n",
       "      <th>4</th>\n",
       "      <td>896</td>\n",
       "      <td>1</td>\n",
       "    </tr>\n",
       "  </tbody>\n",
       "</table>\n",
       "</div>"
      ],
      "text/plain": [
       "   PassengerId  Survived\n",
       "0          892         0\n",
       "1          893         1\n",
       "2          894         0\n",
       "3          895         0\n",
       "4          896         1"
      ]
     },
     "execution_count": 27,
     "metadata": {},
     "output_type": "execute_result"
    }
   ],
   "source": [
    "df_pred = pd.read_csv('C:/GitHub/kaggle/titanic/data/test.csv', sep=',', header=0)\n",
    "df_pred = predict(df_pred, rf_clf, 'C:/GitHub/kaggle/titanic/predictions/predictions_random_forest.csv')\n",
    "df_pred.head(5)"
   ]
  },
  {
   "cell_type": "code",
   "execution_count": 28,
   "metadata": {
    "collapsed": true
   },
   "outputs": [],
   "source": [
    "def report(results, n_top=1):\n",
    "    for i in range(1, n_top + 1):\n",
    "        candidates = np.flatnonzero(results['rank_test_score'] == i)\n",
    "        for candidate in candidates:\n",
    "            print(\"Model with rank: {0}\".format(i))\n",
    "            print(\"Mean validation score: {0:.3f} (std: {1:.3f})\".format(\n",
    "                  results['mean_test_score'][candidate],\n",
    "                  results['std_test_score'][candidate]))\n",
    "            print(\"Parameters: {0}\".format(results['params'][candidate]))\n",
    "            print(\"\")"
   ]
  },
  {
   "cell_type": "code",
   "execution_count": 29,
   "metadata": {
    "collapsed": false
   },
   "outputs": [],
   "source": [
    "def random_search_hyperparameters(clf, hyper_param, X_train, y_train, X_test, y_test, print_result=False):\n",
    "    \n",
    "    # run randomized search\n",
    "    n_iter_search = 10\n",
    "    rnd_clf = RandomizedSearchCV(clf, param_distributions=hyper_param, n_iter=n_iter_search)\n",
    "\n",
    "    start = time()\n",
    "    rnd_clf.fit(X_train, y_train)\n",
    "    \n",
    "    if print_result:\n",
    "        print(\"RandomizedSearchCV took %.2f seconds for %d candidates\"\n",
    "              \" parameter settings.\" % ((time() - start), n_iter_search))\n",
    "        report(rnd_clf.cv_results_)\n",
    "        y_true, y_pred = y_test, clf.predict(X_test)\n",
    "        print(classification_report(y_true, y_pred))\n",
    "       \n",
    "    return rnd_clf  "
   ]
  },
  {
   "cell_type": "code",
   "execution_count": 30,
   "metadata": {
    "collapsed": true
   },
   "outputs": [],
   "source": [
    "def grid_search_hyperparameters(clf, hyper_param, X_train, y_train, X_test, y_test, print_result=False):\n",
    "    \n",
    "    # run grid search\n",
    "    grid_clf = GridSearchCV(clf, param_grid=hyper_param)\n",
    "    start = time()\n",
    "    grid_clf.fit(X_train, y_train)\n",
    "    \n",
    "    if print_result:\n",
    "        report(grid_clf.cv_results_)\n",
    "        y_true, y_pred = y_test, clf.predict(X_test)\n",
    "        print(classification_report(y_true, y_pred))\n",
    "    \n",
    "    return grid_clf  "
   ]
  },
  {
   "cell_type": "code",
   "execution_count": 31,
   "metadata": {
    "collapsed": false
   },
   "outputs": [],
   "source": [
    "# specify parameters and distributions to sample from\n",
    "hyper_param = {\"max_depth\": [3, None],\n",
    "               \"max_features\": stats.randint(3, X_train.shape[1]),\n",
    "               \"min_samples_split\": stats.randint(2, 11),\n",
    "               \"min_samples_leaf\": stats.randint(1, 11),\n",
    "               \"bootstrap\": [True, False],\n",
    "               \"criterion\": [\"gini\", \"entropy\"]}\n",
    "\n",
    "rnd_rf_clf = random_search_hyperparameters(rf_clf, hyper_param, X_train, y_train, X_test, y_test)"
   ]
  },
  {
   "cell_type": "code",
   "execution_count": 32,
   "metadata": {
    "collapsed": false
   },
   "outputs": [
    {
     "name": "stdout",
     "output_type": "stream",
     "text": [
      "Model with rank: 1\n",
      "Mean validation score: 0.827 (std: 0.013)\n",
      "Parameters: {'max_features': 23, 'criterion': 'entropy', 'min_samples_leaf': 3, 'bootstrap': True, 'max_depth': None, 'min_samples_split': 2}\n",
      "\n",
      "             precision    recall  f1-score   support\n",
      "\n",
      "          0       0.86      0.82      0.84       113\n",
      "          1       0.71      0.77      0.74        65\n",
      "\n",
      "avg / total       0.81      0.80      0.80       178\n",
      "\n"
     ]
    }
   ],
   "source": [
    "# use a full grid over all parameters\n",
    "hyper_param = {\"max_depth\": [3, None],\n",
    "               \"max_features\": [3, 10, X_train.shape[1]],\n",
    "               \"min_samples_split\": [2, 3, 10],\n",
    "               \"min_samples_leaf\": [1, 3, 10],\n",
    "               \"bootstrap\": [True, False],\n",
    "               \"criterion\": [\"gini\", \"entropy\"]}\n",
    "\n",
    "rf_grid_clf = grid_search_hyperparameters(rf_clf, hyper_param, X_train, y_train, X_test, y_test, True)"
   ]
  },
  {
   "cell_type": "code",
   "execution_count": 33,
   "metadata": {
    "collapsed": false
   },
   "outputs": [],
   "source": [
    "# specify parameters and distributions to sample from\n",
    "hyper_param = {'C': stats.randint(10, 10000),\n",
    "               'gamma' : stats.uniform(0.001, 1),\n",
    "               'kernel': ['rbf']}\n",
    "\n",
    "svm_rnd_clf = random_search_hyperparameters(svm_clf, hyper_param, X_train, y_train, X_test, y_test)"
   ]
  },
  {
   "cell_type": "code",
   "execution_count": 34,
   "metadata": {
    "collapsed": false
   },
   "outputs": [
    {
     "name": "stdout",
     "output_type": "stream",
     "text": [
      "Model with rank: 1\n",
      "Mean validation score: 0.820 (std: 0.002)\n",
      "Parameters: {'kernel': 'rbf', 'gamma': 0.01, 'C': 1000}\n",
      "\n",
      "Model with rank: 1\n",
      "Mean validation score: 0.820 (std: 0.006)\n",
      "Parameters: {'kernel': 'rbf', 'gamma': 0.01, 'C': 10000}\n",
      "\n",
      "             precision    recall  f1-score   support\n",
      "\n",
      "          0       0.84      0.87      0.85       113\n",
      "          1       0.75      0.71      0.73        65\n",
      "\n",
      "avg / total       0.81      0.81      0.81       178\n",
      "\n"
     ]
    }
   ],
   "source": [
    "# use a full grid over all parameters\n",
    "hyper_param = {'C': [10, 100, 1000, 10000], \n",
    "               'gamma' : [0.001, 0.01, 0.1, 1], \n",
    "               'kernel': ['rbf']}\n",
    "\n",
    "svm_grid_clf = grid_search_hyperparameters(svm_clf, hyper_param, X_train, y_train, X_test, y_test, True)"
   ]
  },
  {
   "cell_type": "code",
   "execution_count": 35,
   "metadata": {
    "collapsed": false
   },
   "outputs": [],
   "source": [
    "# specify parameters and distributions to sample from\n",
    "hyper_param = {'penalty': ['l1','l2'], \n",
    "               'C': stats.uniform(0.001,1000)}\n",
    "\n",
    "lr_rnd_clf = random_search_hyperparameters(lr_clf, hyper_param, X_train, y_train, X_test, y_test)"
   ]
  },
  {
   "cell_type": "code",
   "execution_count": 36,
   "metadata": {
    "collapsed": false
   },
   "outputs": [
    {
     "name": "stdout",
     "output_type": "stream",
     "text": [
      "Model with rank: 1\n",
      "Mean validation score: 0.808 (std: 0.003)\n",
      "Parameters: {'penalty': 'l2', 'C': 0.1}\n",
      "\n",
      "             precision    recall  f1-score   support\n",
      "\n",
      "          0       0.87      0.84      0.86       113\n",
      "          1       0.74      0.78      0.76        65\n",
      "\n",
      "avg / total       0.82      0.82      0.82       178\n",
      "\n"
     ]
    }
   ],
   "source": [
    "# use a full grid over all parameters\n",
    "hyper_param = {'penalty': ['l1','l2'], \n",
    "               'C': [0.001,0.01,0.1,1,10,100,1000]}\n",
    "\n",
    "lr_grid_clf = grid_search_hyperparameters(lr_clf, hyper_param, X_train, y_train, X_test, y_test, True)"
   ]
  },
  {
   "cell_type": "code",
   "execution_count": 39,
   "metadata": {
    "collapsed": false
   },
   "outputs": [
    {
     "name": "stdout",
     "output_type": "stream",
     "text": [
      "Accuracy: 0.82 (+/- 0.02) [Voting Ensamble]\n"
     ]
    }
   ],
   "source": [
    "clfs = ([('Grid Random Forest', rf_grid_clf), ('Grid SVM', svm_grid_clf), ('Grid Logistic Regression', lr_grid_clf)])\n",
    "\n",
    "e_grid_clf = ensamble_voting_clf(clfs, X_train, y_train, X_test, y_test, score_individually=False, cv=5)"
   ]
  },
  {
   "cell_type": "code",
   "execution_count": 41,
   "metadata": {
    "collapsed": false
   },
   "outputs": [
    {
     "data": {
      "text/html": [
       "<div>\n",
       "<style>\n",
       "    .dataframe thead tr:only-child th {\n",
       "        text-align: right;\n",
       "    }\n",
       "\n",
       "    .dataframe thead th {\n",
       "        text-align: left;\n",
       "    }\n",
       "\n",
       "    .dataframe tbody tr th {\n",
       "        vertical-align: top;\n",
       "    }\n",
       "</style>\n",
       "<table border=\"1\" class=\"dataframe\">\n",
       "  <thead>\n",
       "    <tr style=\"text-align: right;\">\n",
       "      <th></th>\n",
       "      <th>PassengerId</th>\n",
       "      <th>Survived</th>\n",
       "    </tr>\n",
       "  </thead>\n",
       "  <tbody>\n",
       "    <tr>\n",
       "      <th>0</th>\n",
       "      <td>892</td>\n",
       "      <td>0</td>\n",
       "    </tr>\n",
       "    <tr>\n",
       "      <th>1</th>\n",
       "      <td>893</td>\n",
       "      <td>1</td>\n",
       "    </tr>\n",
       "    <tr>\n",
       "      <th>2</th>\n",
       "      <td>894</td>\n",
       "      <td>1</td>\n",
       "    </tr>\n",
       "    <tr>\n",
       "      <th>3</th>\n",
       "      <td>895</td>\n",
       "      <td>0</td>\n",
       "    </tr>\n",
       "    <tr>\n",
       "      <th>4</th>\n",
       "      <td>896</td>\n",
       "      <td>1</td>\n",
       "    </tr>\n",
       "  </tbody>\n",
       "</table>\n",
       "</div>"
      ],
      "text/plain": [
       "   PassengerId  Survived\n",
       "0          892         0\n",
       "1          893         1\n",
       "2          894         1\n",
       "3          895         0\n",
       "4          896         1"
      ]
     },
     "execution_count": 41,
     "metadata": {},
     "output_type": "execute_result"
    }
   ],
   "source": [
    "df_pred = pd.read_csv('C:/GitHub/kaggle/titanic/data/test.csv', sep=',', header=0)\n",
    "df_pred = predict(df_pred, e_grid_clf, 'C:/GitHub/kaggle/titanic/predictions/predictions_tuned_voting_ensamble.csv')\n",
    "df_pred.head(5)"
   ]
  },
  {
   "cell_type": "code",
   "execution_count": null,
   "metadata": {
    "collapsed": true
   },
   "outputs": [],
   "source": []
  }
 ],
 "metadata": {
  "kernelspec": {
   "display_name": "tensorflow",
   "language": "python",
   "name": "tensorflow"
  },
  "language_info": {
   "codemirror_mode": {
    "name": "ipython",
    "version": 3
   },
   "file_extension": ".py",
   "mimetype": "text/x-python",
   "name": "python",
   "nbconvert_exporter": "python",
   "pygments_lexer": "ipython3",
   "version": "3.5.3"
  }
 },
 "nbformat": 4,
 "nbformat_minor": 2
}
